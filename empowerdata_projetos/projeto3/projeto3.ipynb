{
 "cells": [
  {
   "cell_type": "code",
   "execution_count": 4,
   "metadata": {},
   "outputs": [],
   "source": [
    "import pandas as pd\n"
   ]
  },
  {
   "attachments": {},
   "cell_type": "markdown",
   "metadata": {},
   "source": [
    "# Análise exploratória"
   ]
  },
  {
   "cell_type": "code",
   "execution_count": 5,
   "metadata": {},
   "outputs": [],
   "source": [
    "dados = pd.read_excel(\"vendas.xlsx\") # Carregar planilha\n"
   ]
  },
  {
   "cell_type": "code",
   "execution_count": null,
   "metadata": {},
   "outputs": [],
   "source": [
    "# Listar as primeira linhas\n",
    "dados.head() # Carrega as 5 primeiras linhas, podendo alterar esse valor passando a qtd desejada"
   ]
  },
  {
   "cell_type": "code",
   "execution_count": null,
   "metadata": {},
   "outputs": [],
   "source": [
    "# Listar as ultimas linhas\n",
    "dados.tail()"
   ]
  },
  {
   "cell_type": "code",
   "execution_count": null,
   "metadata": {},
   "outputs": [],
   "source": [
    "# Tamanho da tabela de dados\n",
    "dados.shape # Retorna a qtd. de linhas e colunas"
   ]
  },
  {
   "cell_type": "code",
   "execution_count": null,
   "metadata": {},
   "outputs": [],
   "source": [
    "# Tipos de dados\n",
    "dados.dtypes"
   ]
  },
  {
   "attachments": {},
   "cell_type": "markdown",
   "metadata": {},
   "source": [
    "# Estatísticas"
   ]
  },
  {
   "cell_type": "code",
   "execution_count": null,
   "metadata": {},
   "outputs": [],
   "source": [
    "# Gerando estatísticas\n",
    "dados.describe()"
   ]
  },
  {
   "attachments": {},
   "cell_type": "markdown",
   "metadata": {},
   "source": [
    "# Análises"
   ]
  },
  {
   "cell_type": "code",
   "execution_count": null,
   "metadata": {},
   "outputs": [],
   "source": [
    "# Total de vendas por loja\n",
    "dados.loja.value_counts()"
   ]
  },
  {
   "cell_type": "code",
   "execution_count": null,
   "metadata": {},
   "outputs": [],
   "source": [
    "# Total de pedidos por tamanho\n",
    "dados.tamanho.value_counts()"
   ]
  },
  {
   "cell_type": "code",
   "execution_count": null,
   "metadata": {},
   "outputs": [],
   "source": [
    "# Total de vendas por formas de pagamento\n",
    "dados.forma_pagamento.value_counts()"
   ]
  },
  {
   "attachments": {},
   "cell_type": "markdown",
   "metadata": {},
   "source": [
    "# Agrupamento de dados"
   ]
  },
  {
   "cell_type": "code",
   "execution_count": null,
   "metadata": {},
   "outputs": [],
   "source": [
    "# Faturamento por loja\n",
    "dados.groupby(\"loja\").preco.sum()"
   ]
  },
  {
   "cell_type": "code",
   "execution_count": null,
   "metadata": {},
   "outputs": [],
   "source": [
    "# Faturamento médio por loja\n",
    "dados.groupby(\"loja\").preco.mean()"
   ]
  },
  {
   "cell_type": "code",
   "execution_count": 32,
   "metadata": {},
   "outputs": [],
   "source": [
    "# Faturamento por estado e cidade\n",
    "dados.groupby([\"estado\", \"cidade\"]).preco.sum().to_excel(\"Faturamento-estado-cidade.xlsx\") # Cria uma planilha do excel com os dados desejados"
   ]
  },
  {
   "attachments": {},
   "cell_type": "markdown",
   "metadata": {},
   "source": [
    "# Visualização de dados"
   ]
  },
  {
   "cell_type": "code",
   "execution_count": 2,
   "metadata": {},
   "outputs": [],
   "source": [
    "import plotly_express as px"
   ]
  },
  {
   "attachments": {},
   "cell_type": "markdown",
   "metadata": {},
   "source": [
    "# Criando gráficos"
   ]
  },
  {
   "cell_type": "code",
   "execution_count": null,
   "metadata": {},
   "outputs": [],
   "source": [
    "px.histogram(dados, x='loja', y=\"preco\", text_auto=True, color=\"estado\")"
   ]
  },
  {
   "cell_type": "code",
   "execution_count": null,
   "metadata": {},
   "outputs": [],
   "source": [
    "grafico = px.histogram(dados, x='loja', y=\"preco\", text_auto=True, color=\"forma_pagamento\")\n",
    "grafico.show()\n",
    "# grafico.write_html(\"Grafico-forma-pagamento.html\") # Exporta o gráfico para HTML, mantendo toda a interatividade do gráfico"
   ]
  },
  {
   "attachments": {},
   "cell_type": "markdown",
   "metadata": {},
   "source": [
    "# Listas"
   ]
  },
  {
   "cell_type": "code",
   "execution_count": null,
   "metadata": {},
   "outputs": [],
   "source": [
    "dados.head()"
   ]
  },
  {
   "cell_type": "code",
   "execution_count": null,
   "metadata": {},
   "outputs": [],
   "source": [
    "lista_colunas = [\"loja\", \"cidade\", \"estado\", \"regiao\", \"tamanho\", \"local_consumo\"]"
   ]
  },
  {
   "attachments": {},
   "cell_type": "markdown",
   "metadata": {},
   "source": [
    "# Estrutura de repetição (Laço)"
   ]
  },
  {
   "cell_type": "code",
   "execution_count": null,
   "metadata": {},
   "outputs": [],
   "source": [
    "for coluna in lista_colunas: # Laço para gerar gráficos a partir da lista\n",
    "    grafico = px.histogram(dados, x=coluna, y=\"preco\", text_auto=True, color=\"forma_pagamento\")\n",
    "    grafico.show()\n",
    "    # grafico.write_html(f\"Grafico-{coluna}.html\")"
   ]
  },
  {
   "attachments": {},
   "cell_type": "markdown",
   "metadata": {},
   "source": [
    "# Gráficos dinâmicos"
   ]
  },
  {
   "cell_type": "code",
   "execution_count": 13,
   "metadata": {},
   "outputs": [
    {
     "data": {
      "application/vnd.plotly.v1+json": {
       "config": {
        "plotlyServerURL": "https://plot.ly"
       },
       "data": [
        {
         "alignmentgroup": "True",
         "hovertemplate": "loja=%{y}<br>ano_mes=2020-01<br>acumulado=%{x}<extra></extra>",
         "legendgroup": "Loja 1",
         "marker": {
          "color": "#636efa",
          "pattern": {
           "shape": ""
          }
         },
         "name": "Loja 1",
         "offsetgroup": "Loja 1",
         "orientation": "h",
         "showlegend": true,
         "textposition": "auto",
         "texttemplate": "%{x}",
         "type": "bar",
         "x": [
          2155
         ],
         "xaxis": "x",
         "y": [
          "Loja 1"
         ],
         "yaxis": "y"
        },
        {
         "alignmentgroup": "True",
         "hovertemplate": "loja=%{y}<br>ano_mes=2020-01<br>acumulado=%{x}<extra></extra>",
         "legendgroup": "Loja 2",
         "marker": {
          "color": "#EF553B",
          "pattern": {
           "shape": ""
          }
         },
         "name": "Loja 2",
         "offsetgroup": "Loja 2",
         "orientation": "h",
         "showlegend": true,
         "textposition": "auto",
         "texttemplate": "%{x}",
         "type": "bar",
         "x": [
          1202
         ],
         "xaxis": "x",
         "y": [
          "Loja 2"
         ],
         "yaxis": "y"
        },
        {
         "alignmentgroup": "True",
         "hovertemplate": "loja=%{y}<br>ano_mes=2020-01<br>acumulado=%{x}<extra></extra>",
         "legendgroup": "Loja 3",
         "marker": {
          "color": "#00cc96",
          "pattern": {
           "shape": ""
          }
         },
         "name": "Loja 3",
         "offsetgroup": "Loja 3",
         "orientation": "h",
         "showlegend": true,
         "textposition": "auto",
         "texttemplate": "%{x}",
         "type": "bar",
         "x": [
          2084
         ],
         "xaxis": "x",
         "y": [
          "Loja 3"
         ],
         "yaxis": "y"
        },
        {
         "alignmentgroup": "True",
         "hovertemplate": "loja=%{y}<br>ano_mes=2020-01<br>acumulado=%{x}<extra></extra>",
         "legendgroup": "Loja 4",
         "marker": {
          "color": "#ab63fa",
          "pattern": {
           "shape": ""
          }
         },
         "name": "Loja 4",
         "offsetgroup": "Loja 4",
         "orientation": "h",
         "showlegend": true,
         "textposition": "auto",
         "texttemplate": "%{x}",
         "type": "bar",
         "x": [
          2584
         ],
         "xaxis": "x",
         "y": [
          "Loja 4"
         ],
         "yaxis": "y"
        },
        {
         "alignmentgroup": "True",
         "hovertemplate": "loja=%{y}<br>ano_mes=2020-01<br>acumulado=%{x}<extra></extra>",
         "legendgroup": "Loja 5",
         "marker": {
          "color": "#FFA15A",
          "pattern": {
           "shape": ""
          }
         },
         "name": "Loja 5",
         "offsetgroup": "Loja 5",
         "orientation": "h",
         "showlegend": true,
         "textposition": "auto",
         "texttemplate": "%{x}",
         "type": "bar",
         "x": [
          2226
         ],
         "xaxis": "x",
         "y": [
          "Loja 5"
         ],
         "yaxis": "y"
        },
        {
         "alignmentgroup": "True",
         "hovertemplate": "loja=%{y}<br>ano_mes=2020-01<br>acumulado=%{x}<extra></extra>",
         "legendgroup": "Loja 6",
         "marker": {
          "color": "#19d3f3",
          "pattern": {
           "shape": ""
          }
         },
         "name": "Loja 6",
         "offsetgroup": "Loja 6",
         "orientation": "h",
         "showlegend": true,
         "textposition": "auto",
         "texttemplate": "%{x}",
         "type": "bar",
         "x": [
          1608
         ],
         "xaxis": "x",
         "y": [
          "Loja 6"
         ],
         "yaxis": "y"
        }
       ],
       "frames": [
        {
         "data": [
          {
           "alignmentgroup": "True",
           "hovertemplate": "loja=%{y}<br>ano_mes=2020-01<br>acumulado=%{x}<extra></extra>",
           "legendgroup": "Loja 1",
           "marker": {
            "color": "#636efa",
            "pattern": {
             "shape": ""
            }
           },
           "name": "Loja 1",
           "offsetgroup": "Loja 1",
           "orientation": "h",
           "showlegend": true,
           "textposition": "auto",
           "texttemplate": "%{x}",
           "type": "bar",
           "x": [
            2155
           ],
           "xaxis": "x",
           "y": [
            "Loja 1"
           ],
           "yaxis": "y"
          },
          {
           "alignmentgroup": "True",
           "hovertemplate": "loja=%{y}<br>ano_mes=2020-01<br>acumulado=%{x}<extra></extra>",
           "legendgroup": "Loja 2",
           "marker": {
            "color": "#EF553B",
            "pattern": {
             "shape": ""
            }
           },
           "name": "Loja 2",
           "offsetgroup": "Loja 2",
           "orientation": "h",
           "showlegend": true,
           "textposition": "auto",
           "texttemplate": "%{x}",
           "type": "bar",
           "x": [
            1202
           ],
           "xaxis": "x",
           "y": [
            "Loja 2"
           ],
           "yaxis": "y"
          },
          {
           "alignmentgroup": "True",
           "hovertemplate": "loja=%{y}<br>ano_mes=2020-01<br>acumulado=%{x}<extra></extra>",
           "legendgroup": "Loja 3",
           "marker": {
            "color": "#00cc96",
            "pattern": {
             "shape": ""
            }
           },
           "name": "Loja 3",
           "offsetgroup": "Loja 3",
           "orientation": "h",
           "showlegend": true,
           "textposition": "auto",
           "texttemplate": "%{x}",
           "type": "bar",
           "x": [
            2084
           ],
           "xaxis": "x",
           "y": [
            "Loja 3"
           ],
           "yaxis": "y"
          },
          {
           "alignmentgroup": "True",
           "hovertemplate": "loja=%{y}<br>ano_mes=2020-01<br>acumulado=%{x}<extra></extra>",
           "legendgroup": "Loja 4",
           "marker": {
            "color": "#ab63fa",
            "pattern": {
             "shape": ""
            }
           },
           "name": "Loja 4",
           "offsetgroup": "Loja 4",
           "orientation": "h",
           "showlegend": true,
           "textposition": "auto",
           "texttemplate": "%{x}",
           "type": "bar",
           "x": [
            2584
           ],
           "xaxis": "x",
           "y": [
            "Loja 4"
           ],
           "yaxis": "y"
          },
          {
           "alignmentgroup": "True",
           "hovertemplate": "loja=%{y}<br>ano_mes=2020-01<br>acumulado=%{x}<extra></extra>",
           "legendgroup": "Loja 5",
           "marker": {
            "color": "#FFA15A",
            "pattern": {
             "shape": ""
            }
           },
           "name": "Loja 5",
           "offsetgroup": "Loja 5",
           "orientation": "h",
           "showlegend": true,
           "textposition": "auto",
           "texttemplate": "%{x}",
           "type": "bar",
           "x": [
            2226
           ],
           "xaxis": "x",
           "y": [
            "Loja 5"
           ],
           "yaxis": "y"
          },
          {
           "alignmentgroup": "True",
           "hovertemplate": "loja=%{y}<br>ano_mes=2020-01<br>acumulado=%{x}<extra></extra>",
           "legendgroup": "Loja 6",
           "marker": {
            "color": "#19d3f3",
            "pattern": {
             "shape": ""
            }
           },
           "name": "Loja 6",
           "offsetgroup": "Loja 6",
           "orientation": "h",
           "showlegend": true,
           "textposition": "auto",
           "texttemplate": "%{x}",
           "type": "bar",
           "x": [
            1608
           ],
           "xaxis": "x",
           "y": [
            "Loja 6"
           ],
           "yaxis": "y"
          }
         ],
         "name": "2020-01"
        },
        {
         "data": [
          {
           "alignmentgroup": "True",
           "hovertemplate": "loja=%{y}<br>ano_mes=2020-02<br>acumulado=%{x}<extra></extra>",
           "legendgroup": "Loja 1",
           "marker": {
            "color": "#636efa",
            "pattern": {
             "shape": ""
            }
           },
           "name": "Loja 1",
           "offsetgroup": "Loja 1",
           "orientation": "h",
           "showlegend": true,
           "textposition": "auto",
           "texttemplate": "%{x}",
           "type": "bar",
           "x": [
            4100
           ],
           "xaxis": "x",
           "y": [
            "Loja 1"
           ],
           "yaxis": "y"
          },
          {
           "alignmentgroup": "True",
           "hovertemplate": "loja=%{y}<br>ano_mes=2020-02<br>acumulado=%{x}<extra></extra>",
           "legendgroup": "Loja 2",
           "marker": {
            "color": "#EF553B",
            "pattern": {
             "shape": ""
            }
           },
           "name": "Loja 2",
           "offsetgroup": "Loja 2",
           "orientation": "h",
           "showlegend": true,
           "textposition": "auto",
           "texttemplate": "%{x}",
           "type": "bar",
           "x": [
            2408
           ],
           "xaxis": "x",
           "y": [
            "Loja 2"
           ],
           "yaxis": "y"
          },
          {
           "alignmentgroup": "True",
           "hovertemplate": "loja=%{y}<br>ano_mes=2020-02<br>acumulado=%{x}<extra></extra>",
           "legendgroup": "Loja 3",
           "marker": {
            "color": "#00cc96",
            "pattern": {
             "shape": ""
            }
           },
           "name": "Loja 3",
           "offsetgroup": "Loja 3",
           "orientation": "h",
           "showlegend": true,
           "textposition": "auto",
           "texttemplate": "%{x}",
           "type": "bar",
           "x": [
            4100
           ],
           "xaxis": "x",
           "y": [
            "Loja 3"
           ],
           "yaxis": "y"
          },
          {
           "alignmentgroup": "True",
           "hovertemplate": "loja=%{y}<br>ano_mes=2020-02<br>acumulado=%{x}<extra></extra>",
           "legendgroup": "Loja 4",
           "marker": {
            "color": "#ab63fa",
            "pattern": {
             "shape": ""
            }
           },
           "name": "Loja 4",
           "offsetgroup": "Loja 4",
           "orientation": "h",
           "showlegend": true,
           "textposition": "auto",
           "texttemplate": "%{x}",
           "type": "bar",
           "x": [
            5709
           ],
           "xaxis": "x",
           "y": [
            "Loja 4"
           ],
           "yaxis": "y"
          },
          {
           "alignmentgroup": "True",
           "hovertemplate": "loja=%{y}<br>ano_mes=2020-02<br>acumulado=%{x}<extra></extra>",
           "legendgroup": "Loja 5",
           "marker": {
            "color": "#FFA15A",
            "pattern": {
             "shape": ""
            }
           },
           "name": "Loja 5",
           "offsetgroup": "Loja 5",
           "orientation": "h",
           "showlegend": true,
           "textposition": "auto",
           "texttemplate": "%{x}",
           "type": "bar",
           "x": [
            4200
           ],
           "xaxis": "x",
           "y": [
            "Loja 5"
           ],
           "yaxis": "y"
          },
          {
           "alignmentgroup": "True",
           "hovertemplate": "loja=%{y}<br>ano_mes=2020-02<br>acumulado=%{x}<extra></extra>",
           "legendgroup": "Loja 6",
           "marker": {
            "color": "#19d3f3",
            "pattern": {
             "shape": ""
            }
           },
           "name": "Loja 6",
           "offsetgroup": "Loja 6",
           "orientation": "h",
           "showlegend": true,
           "textposition": "auto",
           "texttemplate": "%{x}",
           "type": "bar",
           "x": [
            2571
           ],
           "xaxis": "x",
           "y": [
            "Loja 6"
           ],
           "yaxis": "y"
          }
         ],
         "name": "2020-02"
        },
        {
         "data": [
          {
           "alignmentgroup": "True",
           "hovertemplate": "loja=%{y}<br>ano_mes=2020-03<br>acumulado=%{x}<extra></extra>",
           "legendgroup": "Loja 1",
           "marker": {
            "color": "#636efa",
            "pattern": {
             "shape": ""
            }
           },
           "name": "Loja 1",
           "offsetgroup": "Loja 1",
           "orientation": "h",
           "showlegend": true,
           "textposition": "auto",
           "texttemplate": "%{x}",
           "type": "bar",
           "x": [
            6398
           ],
           "xaxis": "x",
           "y": [
            "Loja 1"
           ],
           "yaxis": "y"
          },
          {
           "alignmentgroup": "True",
           "hovertemplate": "loja=%{y}<br>ano_mes=2020-03<br>acumulado=%{x}<extra></extra>",
           "legendgroup": "Loja 2",
           "marker": {
            "color": "#EF553B",
            "pattern": {
             "shape": ""
            }
           },
           "name": "Loja 2",
           "offsetgroup": "Loja 2",
           "orientation": "h",
           "showlegend": true,
           "textposition": "auto",
           "texttemplate": "%{x}",
           "type": "bar",
           "x": [
            4249
           ],
           "xaxis": "x",
           "y": [
            "Loja 2"
           ],
           "yaxis": "y"
          },
          {
           "alignmentgroup": "True",
           "hovertemplate": "loja=%{y}<br>ano_mes=2020-03<br>acumulado=%{x}<extra></extra>",
           "legendgroup": "Loja 3",
           "marker": {
            "color": "#00cc96",
            "pattern": {
             "shape": ""
            }
           },
           "name": "Loja 3",
           "offsetgroup": "Loja 3",
           "orientation": "h",
           "showlegend": true,
           "textposition": "auto",
           "texttemplate": "%{x}",
           "type": "bar",
           "x": [
            6277
           ],
           "xaxis": "x",
           "y": [
            "Loja 3"
           ],
           "yaxis": "y"
          },
          {
           "alignmentgroup": "True",
           "hovertemplate": "loja=%{y}<br>ano_mes=2020-03<br>acumulado=%{x}<extra></extra>",
           "legendgroup": "Loja 4",
           "marker": {
            "color": "#ab63fa",
            "pattern": {
             "shape": ""
            }
           },
           "name": "Loja 4",
           "offsetgroup": "Loja 4",
           "orientation": "h",
           "showlegend": true,
           "textposition": "auto",
           "texttemplate": "%{x}",
           "type": "bar",
           "x": [
            8805
           ],
           "xaxis": "x",
           "y": [
            "Loja 4"
           ],
           "yaxis": "y"
          },
          {
           "alignmentgroup": "True",
           "hovertemplate": "loja=%{y}<br>ano_mes=2020-03<br>acumulado=%{x}<extra></extra>",
           "legendgroup": "Loja 5",
           "marker": {
            "color": "#FFA15A",
            "pattern": {
             "shape": ""
            }
           },
           "name": "Loja 5",
           "offsetgroup": "Loja 5",
           "orientation": "h",
           "showlegend": true,
           "textposition": "auto",
           "texttemplate": "%{x}",
           "type": "bar",
           "x": [
            6624
           ],
           "xaxis": "x",
           "y": [
            "Loja 5"
           ],
           "yaxis": "y"
          },
          {
           "alignmentgroup": "True",
           "hovertemplate": "loja=%{y}<br>ano_mes=2020-03<br>acumulado=%{x}<extra></extra>",
           "legendgroup": "Loja 6",
           "marker": {
            "color": "#19d3f3",
            "pattern": {
             "shape": ""
            }
           },
           "name": "Loja 6",
           "offsetgroup": "Loja 6",
           "orientation": "h",
           "showlegend": true,
           "textposition": "auto",
           "texttemplate": "%{x}",
           "type": "bar",
           "x": [
            4250
           ],
           "xaxis": "x",
           "y": [
            "Loja 6"
           ],
           "yaxis": "y"
          }
         ],
         "name": "2020-03"
        },
        {
         "data": [
          {
           "alignmentgroup": "True",
           "hovertemplate": "loja=%{y}<br>ano_mes=2020-04<br>acumulado=%{x}<extra></extra>",
           "legendgroup": "Loja 1",
           "marker": {
            "color": "#636efa",
            "pattern": {
             "shape": ""
            }
           },
           "name": "Loja 1",
           "offsetgroup": "Loja 1",
           "orientation": "h",
           "showlegend": true,
           "textposition": "auto",
           "texttemplate": "%{x}",
           "type": "bar",
           "x": [
            8259
           ],
           "xaxis": "x",
           "y": [
            "Loja 1"
           ],
           "yaxis": "y"
          },
          {
           "alignmentgroup": "True",
           "hovertemplate": "loja=%{y}<br>ano_mes=2020-04<br>acumulado=%{x}<extra></extra>",
           "legendgroup": "Loja 2",
           "marker": {
            "color": "#EF553B",
            "pattern": {
             "shape": ""
            }
           },
           "name": "Loja 2",
           "offsetgroup": "Loja 2",
           "orientation": "h",
           "showlegend": true,
           "textposition": "auto",
           "texttemplate": "%{x}",
           "type": "bar",
           "x": [
            5359
           ],
           "xaxis": "x",
           "y": [
            "Loja 2"
           ],
           "yaxis": "y"
          },
          {
           "alignmentgroup": "True",
           "hovertemplate": "loja=%{y}<br>ano_mes=2020-04<br>acumulado=%{x}<extra></extra>",
           "legendgroup": "Loja 3",
           "marker": {
            "color": "#00cc96",
            "pattern": {
             "shape": ""
            }
           },
           "name": "Loja 3",
           "offsetgroup": "Loja 3",
           "orientation": "h",
           "showlegend": true,
           "textposition": "auto",
           "texttemplate": "%{x}",
           "type": "bar",
           "x": [
            8337
           ],
           "xaxis": "x",
           "y": [
            "Loja 3"
           ],
           "yaxis": "y"
          },
          {
           "alignmentgroup": "True",
           "hovertemplate": "loja=%{y}<br>ano_mes=2020-04<br>acumulado=%{x}<extra></extra>",
           "legendgroup": "Loja 4",
           "marker": {
            "color": "#ab63fa",
            "pattern": {
             "shape": ""
            }
           },
           "name": "Loja 4",
           "offsetgroup": "Loja 4",
           "orientation": "h",
           "showlegend": true,
           "textposition": "auto",
           "texttemplate": "%{x}",
           "type": "bar",
           "x": [
            11867
           ],
           "xaxis": "x",
           "y": [
            "Loja 4"
           ],
           "yaxis": "y"
          },
          {
           "alignmentgroup": "True",
           "hovertemplate": "loja=%{y}<br>ano_mes=2020-04<br>acumulado=%{x}<extra></extra>",
           "legendgroup": "Loja 5",
           "marker": {
            "color": "#FFA15A",
            "pattern": {
             "shape": ""
            }
           },
           "name": "Loja 5",
           "offsetgroup": "Loja 5",
           "orientation": "h",
           "showlegend": true,
           "textposition": "auto",
           "texttemplate": "%{x}",
           "type": "bar",
           "x": [
            8675
           ],
           "xaxis": "x",
           "y": [
            "Loja 5"
           ],
           "yaxis": "y"
          },
          {
           "alignmentgroup": "True",
           "hovertemplate": "loja=%{y}<br>ano_mes=2020-04<br>acumulado=%{x}<extra></extra>",
           "legendgroup": "Loja 6",
           "marker": {
            "color": "#19d3f3",
            "pattern": {
             "shape": ""
            }
           },
           "name": "Loja 6",
           "offsetgroup": "Loja 6",
           "orientation": "h",
           "showlegend": true,
           "textposition": "auto",
           "texttemplate": "%{x}",
           "type": "bar",
           "x": [
            5436
           ],
           "xaxis": "x",
           "y": [
            "Loja 6"
           ],
           "yaxis": "y"
          }
         ],
         "name": "2020-04"
        },
        {
         "data": [
          {
           "alignmentgroup": "True",
           "hovertemplate": "loja=%{y}<br>ano_mes=2020-05<br>acumulado=%{x}<extra></extra>",
           "legendgroup": "Loja 1",
           "marker": {
            "color": "#636efa",
            "pattern": {
             "shape": ""
            }
           },
           "name": "Loja 1",
           "offsetgroup": "Loja 1",
           "orientation": "h",
           "showlegend": true,
           "textposition": "auto",
           "texttemplate": "%{x}",
           "type": "bar",
           "x": [
            10380
           ],
           "xaxis": "x",
           "y": [
            "Loja 1"
           ],
           "yaxis": "y"
          },
          {
           "alignmentgroup": "True",
           "hovertemplate": "loja=%{y}<br>ano_mes=2020-05<br>acumulado=%{x}<extra></extra>",
           "legendgroup": "Loja 2",
           "marker": {
            "color": "#EF553B",
            "pattern": {
             "shape": ""
            }
           },
           "name": "Loja 2",
           "offsetgroup": "Loja 2",
           "orientation": "h",
           "showlegend": true,
           "textposition": "auto",
           "texttemplate": "%{x}",
           "type": "bar",
           "x": [
            6849
           ],
           "xaxis": "x",
           "y": [
            "Loja 2"
           ],
           "yaxis": "y"
          },
          {
           "alignmentgroup": "True",
           "hovertemplate": "loja=%{y}<br>ano_mes=2020-05<br>acumulado=%{x}<extra></extra>",
           "legendgroup": "Loja 3",
           "marker": {
            "color": "#00cc96",
            "pattern": {
             "shape": ""
            }
           },
           "name": "Loja 3",
           "offsetgroup": "Loja 3",
           "orientation": "h",
           "showlegend": true,
           "textposition": "auto",
           "texttemplate": "%{x}",
           "type": "bar",
           "x": [
            10577
           ],
           "xaxis": "x",
           "y": [
            "Loja 3"
           ],
           "yaxis": "y"
          },
          {
           "alignmentgroup": "True",
           "hovertemplate": "loja=%{y}<br>ano_mes=2020-05<br>acumulado=%{x}<extra></extra>",
           "legendgroup": "Loja 4",
           "marker": {
            "color": "#ab63fa",
            "pattern": {
             "shape": ""
            }
           },
           "name": "Loja 4",
           "offsetgroup": "Loja 4",
           "orientation": "h",
           "showlegend": true,
           "textposition": "auto",
           "texttemplate": "%{x}",
           "type": "bar",
           "x": [
            14966
           ],
           "xaxis": "x",
           "y": [
            "Loja 4"
           ],
           "yaxis": "y"
          },
          {
           "alignmentgroup": "True",
           "hovertemplate": "loja=%{y}<br>ano_mes=2020-05<br>acumulado=%{x}<extra></extra>",
           "legendgroup": "Loja 5",
           "marker": {
            "color": "#FFA15A",
            "pattern": {
             "shape": ""
            }
           },
           "name": "Loja 5",
           "offsetgroup": "Loja 5",
           "orientation": "h",
           "showlegend": true,
           "textposition": "auto",
           "texttemplate": "%{x}",
           "type": "bar",
           "x": [
            10819
           ],
           "xaxis": "x",
           "y": [
            "Loja 5"
           ],
           "yaxis": "y"
          },
          {
           "alignmentgroup": "True",
           "hovertemplate": "loja=%{y}<br>ano_mes=2020-05<br>acumulado=%{x}<extra></extra>",
           "legendgroup": "Loja 6",
           "marker": {
            "color": "#19d3f3",
            "pattern": {
             "shape": ""
            }
           },
           "name": "Loja 6",
           "offsetgroup": "Loja 6",
           "orientation": "h",
           "showlegend": true,
           "textposition": "auto",
           "texttemplate": "%{x}",
           "type": "bar",
           "x": [
            6596
           ],
           "xaxis": "x",
           "y": [
            "Loja 6"
           ],
           "yaxis": "y"
          }
         ],
         "name": "2020-05"
        },
        {
         "data": [
          {
           "alignmentgroup": "True",
           "hovertemplate": "loja=%{y}<br>ano_mes=2020-06<br>acumulado=%{x}<extra></extra>",
           "legendgroup": "Loja 1",
           "marker": {
            "color": "#636efa",
            "pattern": {
             "shape": ""
            }
           },
           "name": "Loja 1",
           "offsetgroup": "Loja 1",
           "orientation": "h",
           "showlegend": true,
           "textposition": "auto",
           "texttemplate": "%{x}",
           "type": "bar",
           "x": [
            12720
           ],
           "xaxis": "x",
           "y": [
            "Loja 1"
           ],
           "yaxis": "y"
          },
          {
           "alignmentgroup": "True",
           "hovertemplate": "loja=%{y}<br>ano_mes=2020-06<br>acumulado=%{x}<extra></extra>",
           "legendgroup": "Loja 2",
           "marker": {
            "color": "#EF553B",
            "pattern": {
             "shape": ""
            }
           },
           "name": "Loja 2",
           "offsetgroup": "Loja 2",
           "orientation": "h",
           "showlegend": true,
           "textposition": "auto",
           "texttemplate": "%{x}",
           "type": "bar",
           "x": [
            8390
           ],
           "xaxis": "x",
           "y": [
            "Loja 2"
           ],
           "yaxis": "y"
          },
          {
           "alignmentgroup": "True",
           "hovertemplate": "loja=%{y}<br>ano_mes=2020-06<br>acumulado=%{x}<extra></extra>",
           "legendgroup": "Loja 3",
           "marker": {
            "color": "#00cc96",
            "pattern": {
             "shape": ""
            }
           },
           "name": "Loja 3",
           "offsetgroup": "Loja 3",
           "orientation": "h",
           "showlegend": true,
           "textposition": "auto",
           "texttemplate": "%{x}",
           "type": "bar",
           "x": [
            12766
           ],
           "xaxis": "x",
           "y": [
            "Loja 3"
           ],
           "yaxis": "y"
          },
          {
           "alignmentgroup": "True",
           "hovertemplate": "loja=%{y}<br>ano_mes=2020-06<br>acumulado=%{x}<extra></extra>",
           "legendgroup": "Loja 4",
           "marker": {
            "color": "#ab63fa",
            "pattern": {
             "shape": ""
            }
           },
           "name": "Loja 4",
           "offsetgroup": "Loja 4",
           "orientation": "h",
           "showlegend": true,
           "textposition": "auto",
           "texttemplate": "%{x}",
           "type": "bar",
           "x": [
            17846
           ],
           "xaxis": "x",
           "y": [
            "Loja 4"
           ],
           "yaxis": "y"
          },
          {
           "alignmentgroup": "True",
           "hovertemplate": "loja=%{y}<br>ano_mes=2020-06<br>acumulado=%{x}<extra></extra>",
           "legendgroup": "Loja 5",
           "marker": {
            "color": "#FFA15A",
            "pattern": {
             "shape": ""
            }
           },
           "name": "Loja 5",
           "offsetgroup": "Loja 5",
           "orientation": "h",
           "showlegend": true,
           "textposition": "auto",
           "texttemplate": "%{x}",
           "type": "bar",
           "x": [
            12924
           ],
           "xaxis": "x",
           "y": [
            "Loja 5"
           ],
           "yaxis": "y"
          },
          {
           "alignmentgroup": "True",
           "hovertemplate": "loja=%{y}<br>ano_mes=2020-06<br>acumulado=%{x}<extra></extra>",
           "legendgroup": "Loja 6",
           "marker": {
            "color": "#19d3f3",
            "pattern": {
             "shape": ""
            }
           },
           "name": "Loja 6",
           "offsetgroup": "Loja 6",
           "orientation": "h",
           "showlegend": true,
           "textposition": "auto",
           "texttemplate": "%{x}",
           "type": "bar",
           "x": [
            7913
           ],
           "xaxis": "x",
           "y": [
            "Loja 6"
           ],
           "yaxis": "y"
          }
         ],
         "name": "2020-06"
        },
        {
         "data": [
          {
           "alignmentgroup": "True",
           "hovertemplate": "loja=%{y}<br>ano_mes=2020-07<br>acumulado=%{x}<extra></extra>",
           "legendgroup": "Loja 1",
           "marker": {
            "color": "#636efa",
            "pattern": {
             "shape": ""
            }
           },
           "name": "Loja 1",
           "offsetgroup": "Loja 1",
           "orientation": "h",
           "showlegend": true,
           "textposition": "auto",
           "texttemplate": "%{x}",
           "type": "bar",
           "x": [
            15040
           ],
           "xaxis": "x",
           "y": [
            "Loja 1"
           ],
           "yaxis": "y"
          },
          {
           "alignmentgroup": "True",
           "hovertemplate": "loja=%{y}<br>ano_mes=2020-07<br>acumulado=%{x}<extra></extra>",
           "legendgroup": "Loja 2",
           "marker": {
            "color": "#EF553B",
            "pattern": {
             "shape": ""
            }
           },
           "name": "Loja 2",
           "offsetgroup": "Loja 2",
           "orientation": "h",
           "showlegend": true,
           "textposition": "auto",
           "texttemplate": "%{x}",
           "type": "bar",
           "x": [
            9851
           ],
           "xaxis": "x",
           "y": [
            "Loja 2"
           ],
           "yaxis": "y"
          },
          {
           "alignmentgroup": "True",
           "hovertemplate": "loja=%{y}<br>ano_mes=2020-07<br>acumulado=%{x}<extra></extra>",
           "legendgroup": "Loja 3",
           "marker": {
            "color": "#00cc96",
            "pattern": {
             "shape": ""
            }
           },
           "name": "Loja 3",
           "offsetgroup": "Loja 3",
           "orientation": "h",
           "showlegend": true,
           "textposition": "auto",
           "texttemplate": "%{x}",
           "type": "bar",
           "x": [
            14529
           ],
           "xaxis": "x",
           "y": [
            "Loja 3"
           ],
           "yaxis": "y"
          },
          {
           "alignmentgroup": "True",
           "hovertemplate": "loja=%{y}<br>ano_mes=2020-07<br>acumulado=%{x}<extra></extra>",
           "legendgroup": "Loja 4",
           "marker": {
            "color": "#ab63fa",
            "pattern": {
             "shape": ""
            }
           },
           "name": "Loja 4",
           "offsetgroup": "Loja 4",
           "orientation": "h",
           "showlegend": true,
           "textposition": "auto",
           "texttemplate": "%{x}",
           "type": "bar",
           "x": [
            20694
           ],
           "xaxis": "x",
           "y": [
            "Loja 4"
           ],
           "yaxis": "y"
          },
          {
           "alignmentgroup": "True",
           "hovertemplate": "loja=%{y}<br>ano_mes=2020-07<br>acumulado=%{x}<extra></extra>",
           "legendgroup": "Loja 5",
           "marker": {
            "color": "#FFA15A",
            "pattern": {
             "shape": ""
            }
           },
           "name": "Loja 5",
           "offsetgroup": "Loja 5",
           "orientation": "h",
           "showlegend": true,
           "textposition": "auto",
           "texttemplate": "%{x}",
           "type": "bar",
           "x": [
            14972
           ],
           "xaxis": "x",
           "y": [
            "Loja 5"
           ],
           "yaxis": "y"
          },
          {
           "alignmentgroup": "True",
           "hovertemplate": "loja=%{y}<br>ano_mes=2020-07<br>acumulado=%{x}<extra></extra>",
           "legendgroup": "Loja 6",
           "marker": {
            "color": "#19d3f3",
            "pattern": {
             "shape": ""
            }
           },
           "name": "Loja 6",
           "offsetgroup": "Loja 6",
           "orientation": "h",
           "showlegend": true,
           "textposition": "auto",
           "texttemplate": "%{x}",
           "type": "bar",
           "x": [
            10128
           ],
           "xaxis": "x",
           "y": [
            "Loja 6"
           ],
           "yaxis": "y"
          }
         ],
         "name": "2020-07"
        },
        {
         "data": [
          {
           "alignmentgroup": "True",
           "hovertemplate": "loja=%{y}<br>ano_mes=2020-08<br>acumulado=%{x}<extra></extra>",
           "legendgroup": "Loja 1",
           "marker": {
            "color": "#636efa",
            "pattern": {
             "shape": ""
            }
           },
           "name": "Loja 1",
           "offsetgroup": "Loja 1",
           "orientation": "h",
           "showlegend": true,
           "textposition": "auto",
           "texttemplate": "%{x}",
           "type": "bar",
           "x": [
            17474
           ],
           "xaxis": "x",
           "y": [
            "Loja 1"
           ],
           "yaxis": "y"
          },
          {
           "alignmentgroup": "True",
           "hovertemplate": "loja=%{y}<br>ano_mes=2020-08<br>acumulado=%{x}<extra></extra>",
           "legendgroup": "Loja 2",
           "marker": {
            "color": "#EF553B",
            "pattern": {
             "shape": ""
            }
           },
           "name": "Loja 2",
           "offsetgroup": "Loja 2",
           "orientation": "h",
           "showlegend": true,
           "textposition": "auto",
           "texttemplate": "%{x}",
           "type": "bar",
           "x": [
            11329
           ],
           "xaxis": "x",
           "y": [
            "Loja 2"
           ],
           "yaxis": "y"
          },
          {
           "alignmentgroup": "True",
           "hovertemplate": "loja=%{y}<br>ano_mes=2020-08<br>acumulado=%{x}<extra></extra>",
           "legendgroup": "Loja 3",
           "marker": {
            "color": "#00cc96",
            "pattern": {
             "shape": ""
            }
           },
           "name": "Loja 3",
           "offsetgroup": "Loja 3",
           "orientation": "h",
           "showlegend": true,
           "textposition": "auto",
           "texttemplate": "%{x}",
           "type": "bar",
           "x": [
            16020
           ],
           "xaxis": "x",
           "y": [
            "Loja 3"
           ],
           "yaxis": "y"
          },
          {
           "alignmentgroup": "True",
           "hovertemplate": "loja=%{y}<br>ano_mes=2020-08<br>acumulado=%{x}<extra></extra>",
           "legendgroup": "Loja 4",
           "marker": {
            "color": "#ab63fa",
            "pattern": {
             "shape": ""
            }
           },
           "name": "Loja 4",
           "offsetgroup": "Loja 4",
           "orientation": "h",
           "showlegend": true,
           "textposition": "auto",
           "texttemplate": "%{x}",
           "type": "bar",
           "x": [
            23674
           ],
           "xaxis": "x",
           "y": [
            "Loja 4"
           ],
           "yaxis": "y"
          },
          {
           "alignmentgroup": "True",
           "hovertemplate": "loja=%{y}<br>ano_mes=2020-08<br>acumulado=%{x}<extra></extra>",
           "legendgroup": "Loja 5",
           "marker": {
            "color": "#FFA15A",
            "pattern": {
             "shape": ""
            }
           },
           "name": "Loja 5",
           "offsetgroup": "Loja 5",
           "orientation": "h",
           "showlegend": true,
           "textposition": "auto",
           "texttemplate": "%{x}",
           "type": "bar",
           "x": [
            16771
           ],
           "xaxis": "x",
           "y": [
            "Loja 5"
           ],
           "yaxis": "y"
          },
          {
           "alignmentgroup": "True",
           "hovertemplate": "loja=%{y}<br>ano_mes=2020-08<br>acumulado=%{x}<extra></extra>",
           "legendgroup": "Loja 6",
           "marker": {
            "color": "#19d3f3",
            "pattern": {
             "shape": ""
            }
           },
           "name": "Loja 6",
           "offsetgroup": "Loja 6",
           "orientation": "h",
           "showlegend": true,
           "textposition": "auto",
           "texttemplate": "%{x}",
           "type": "bar",
           "x": [
            11928
           ],
           "xaxis": "x",
           "y": [
            "Loja 6"
           ],
           "yaxis": "y"
          }
         ],
         "name": "2020-08"
        },
        {
         "data": [
          {
           "alignmentgroup": "True",
           "hovertemplate": "loja=%{y}<br>ano_mes=2020-09<br>acumulado=%{x}<extra></extra>",
           "legendgroup": "Loja 1",
           "marker": {
            "color": "#636efa",
            "pattern": {
             "shape": ""
            }
           },
           "name": "Loja 1",
           "offsetgroup": "Loja 1",
           "orientation": "h",
           "showlegend": true,
           "textposition": "auto",
           "texttemplate": "%{x}",
           "type": "bar",
           "x": [
            19586
           ],
           "xaxis": "x",
           "y": [
            "Loja 1"
           ],
           "yaxis": "y"
          },
          {
           "alignmentgroup": "True",
           "hovertemplate": "loja=%{y}<br>ano_mes=2020-09<br>acumulado=%{x}<extra></extra>",
           "legendgroup": "Loja 2",
           "marker": {
            "color": "#EF553B",
            "pattern": {
             "shape": ""
            }
           },
           "name": "Loja 2",
           "offsetgroup": "Loja 2",
           "orientation": "h",
           "showlegend": true,
           "textposition": "auto",
           "texttemplate": "%{x}",
           "type": "bar",
           "x": [
            12787
           ],
           "xaxis": "x",
           "y": [
            "Loja 2"
           ],
           "yaxis": "y"
          },
          {
           "alignmentgroup": "True",
           "hovertemplate": "loja=%{y}<br>ano_mes=2020-09<br>acumulado=%{x}<extra></extra>",
           "legendgroup": "Loja 3",
           "marker": {
            "color": "#00cc96",
            "pattern": {
             "shape": ""
            }
           },
           "name": "Loja 3",
           "offsetgroup": "Loja 3",
           "orientation": "h",
           "showlegend": true,
           "textposition": "auto",
           "texttemplate": "%{x}",
           "type": "bar",
           "x": [
            17940
           ],
           "xaxis": "x",
           "y": [
            "Loja 3"
           ],
           "yaxis": "y"
          },
          {
           "alignmentgroup": "True",
           "hovertemplate": "loja=%{y}<br>ano_mes=2020-09<br>acumulado=%{x}<extra></extra>",
           "legendgroup": "Loja 4",
           "marker": {
            "color": "#ab63fa",
            "pattern": {
             "shape": ""
            }
           },
           "name": "Loja 4",
           "offsetgroup": "Loja 4",
           "orientation": "h",
           "showlegend": true,
           "textposition": "auto",
           "texttemplate": "%{x}",
           "type": "bar",
           "x": [
            26167
           ],
           "xaxis": "x",
           "y": [
            "Loja 4"
           ],
           "yaxis": "y"
          },
          {
           "alignmentgroup": "True",
           "hovertemplate": "loja=%{y}<br>ano_mes=2020-09<br>acumulado=%{x}<extra></extra>",
           "legendgroup": "Loja 5",
           "marker": {
            "color": "#FFA15A",
            "pattern": {
             "shape": ""
            }
           },
           "name": "Loja 5",
           "offsetgroup": "Loja 5",
           "orientation": "h",
           "showlegend": true,
           "textposition": "auto",
           "texttemplate": "%{x}",
           "type": "bar",
           "x": [
            18812
           ],
           "xaxis": "x",
           "y": [
            "Loja 5"
           ],
           "yaxis": "y"
          },
          {
           "alignmentgroup": "True",
           "hovertemplate": "loja=%{y}<br>ano_mes=2020-09<br>acumulado=%{x}<extra></extra>",
           "legendgroup": "Loja 6",
           "marker": {
            "color": "#19d3f3",
            "pattern": {
             "shape": ""
            }
           },
           "name": "Loja 6",
           "offsetgroup": "Loja 6",
           "orientation": "h",
           "showlegend": true,
           "textposition": "auto",
           "texttemplate": "%{x}",
           "type": "bar",
           "x": [
            13351
           ],
           "xaxis": "x",
           "y": [
            "Loja 6"
           ],
           "yaxis": "y"
          }
         ],
         "name": "2020-09"
        },
        {
         "data": [
          {
           "alignmentgroup": "True",
           "hovertemplate": "loja=%{y}<br>ano_mes=2020-10<br>acumulado=%{x}<extra></extra>",
           "legendgroup": "Loja 1",
           "marker": {
            "color": "#636efa",
            "pattern": {
             "shape": ""
            }
           },
           "name": "Loja 1",
           "offsetgroup": "Loja 1",
           "orientation": "h",
           "showlegend": true,
           "textposition": "auto",
           "texttemplate": "%{x}",
           "type": "bar",
           "x": [
            22064
           ],
           "xaxis": "x",
           "y": [
            "Loja 1"
           ],
           "yaxis": "y"
          },
          {
           "alignmentgroup": "True",
           "hovertemplate": "loja=%{y}<br>ano_mes=2020-10<br>acumulado=%{x}<extra></extra>",
           "legendgroup": "Loja 2",
           "marker": {
            "color": "#EF553B",
            "pattern": {
             "shape": ""
            }
           },
           "name": "Loja 2",
           "offsetgroup": "Loja 2",
           "orientation": "h",
           "showlegend": true,
           "textposition": "auto",
           "texttemplate": "%{x}",
           "type": "bar",
           "x": [
            14076
           ],
           "xaxis": "x",
           "y": [
            "Loja 2"
           ],
           "yaxis": "y"
          },
          {
           "alignmentgroup": "True",
           "hovertemplate": "loja=%{y}<br>ano_mes=2020-10<br>acumulado=%{x}<extra></extra>",
           "legendgroup": "Loja 3",
           "marker": {
            "color": "#00cc96",
            "pattern": {
             "shape": ""
            }
           },
           "name": "Loja 3",
           "offsetgroup": "Loja 3",
           "orientation": "h",
           "showlegend": true,
           "textposition": "auto",
           "texttemplate": "%{x}",
           "type": "bar",
           "x": [
            20295
           ],
           "xaxis": "x",
           "y": [
            "Loja 3"
           ],
           "yaxis": "y"
          },
          {
           "alignmentgroup": "True",
           "hovertemplate": "loja=%{y}<br>ano_mes=2020-10<br>acumulado=%{x}<extra></extra>",
           "legendgroup": "Loja 4",
           "marker": {
            "color": "#ab63fa",
            "pattern": {
             "shape": ""
            }
           },
           "name": "Loja 4",
           "offsetgroup": "Loja 4",
           "orientation": "h",
           "showlegend": true,
           "textposition": "auto",
           "texttemplate": "%{x}",
           "type": "bar",
           "x": [
            29810
           ],
           "xaxis": "x",
           "y": [
            "Loja 4"
           ],
           "yaxis": "y"
          },
          {
           "alignmentgroup": "True",
           "hovertemplate": "loja=%{y}<br>ano_mes=2020-10<br>acumulado=%{x}<extra></extra>",
           "legendgroup": "Loja 5",
           "marker": {
            "color": "#FFA15A",
            "pattern": {
             "shape": ""
            }
           },
           "name": "Loja 5",
           "offsetgroup": "Loja 5",
           "orientation": "h",
           "showlegend": true,
           "textposition": "auto",
           "texttemplate": "%{x}",
           "type": "bar",
           "x": [
            21135
           ],
           "xaxis": "x",
           "y": [
            "Loja 5"
           ],
           "yaxis": "y"
          },
          {
           "alignmentgroup": "True",
           "hovertemplate": "loja=%{y}<br>ano_mes=2020-10<br>acumulado=%{x}<extra></extra>",
           "legendgroup": "Loja 6",
           "marker": {
            "color": "#19d3f3",
            "pattern": {
             "shape": ""
            }
           },
           "name": "Loja 6",
           "offsetgroup": "Loja 6",
           "orientation": "h",
           "showlegend": true,
           "textposition": "auto",
           "texttemplate": "%{x}",
           "type": "bar",
           "x": [
            14455
           ],
           "xaxis": "x",
           "y": [
            "Loja 6"
           ],
           "yaxis": "y"
          }
         ],
         "name": "2020-10"
        },
        {
         "data": [
          {
           "alignmentgroup": "True",
           "hovertemplate": "loja=%{y}<br>ano_mes=2020-11<br>acumulado=%{x}<extra></extra>",
           "legendgroup": "Loja 1",
           "marker": {
            "color": "#636efa",
            "pattern": {
             "shape": ""
            }
           },
           "name": "Loja 1",
           "offsetgroup": "Loja 1",
           "orientation": "h",
           "showlegend": true,
           "textposition": "auto",
           "texttemplate": "%{x}",
           "type": "bar",
           "x": [
            24206
           ],
           "xaxis": "x",
           "y": [
            "Loja 1"
           ],
           "yaxis": "y"
          },
          {
           "alignmentgroup": "True",
           "hovertemplate": "loja=%{y}<br>ano_mes=2020-11<br>acumulado=%{x}<extra></extra>",
           "legendgroup": "Loja 2",
           "marker": {
            "color": "#EF553B",
            "pattern": {
             "shape": ""
            }
           },
           "name": "Loja 2",
           "offsetgroup": "Loja 2",
           "orientation": "h",
           "showlegend": true,
           "textposition": "auto",
           "texttemplate": "%{x}",
           "type": "bar",
           "x": [
            15525
           ],
           "xaxis": "x",
           "y": [
            "Loja 2"
           ],
           "yaxis": "y"
          },
          {
           "alignmentgroup": "True",
           "hovertemplate": "loja=%{y}<br>ano_mes=2020-11<br>acumulado=%{x}<extra></extra>",
           "legendgroup": "Loja 3",
           "marker": {
            "color": "#00cc96",
            "pattern": {
             "shape": ""
            }
           },
           "name": "Loja 3",
           "offsetgroup": "Loja 3",
           "orientation": "h",
           "showlegend": true,
           "textposition": "auto",
           "texttemplate": "%{x}",
           "type": "bar",
           "x": [
            22301
           ],
           "xaxis": "x",
           "y": [
            "Loja 3"
           ],
           "yaxis": "y"
          },
          {
           "alignmentgroup": "True",
           "hovertemplate": "loja=%{y}<br>ano_mes=2020-11<br>acumulado=%{x}<extra></extra>",
           "legendgroup": "Loja 4",
           "marker": {
            "color": "#ab63fa",
            "pattern": {
             "shape": ""
            }
           },
           "name": "Loja 4",
           "offsetgroup": "Loja 4",
           "orientation": "h",
           "showlegend": true,
           "textposition": "auto",
           "texttemplate": "%{x}",
           "type": "bar",
           "x": [
            32470
           ],
           "xaxis": "x",
           "y": [
            "Loja 4"
           ],
           "yaxis": "y"
          },
          {
           "alignmentgroup": "True",
           "hovertemplate": "loja=%{y}<br>ano_mes=2020-11<br>acumulado=%{x}<extra></extra>",
           "legendgroup": "Loja 5",
           "marker": {
            "color": "#FFA15A",
            "pattern": {
             "shape": ""
            }
           },
           "name": "Loja 5",
           "offsetgroup": "Loja 5",
           "orientation": "h",
           "showlegend": true,
           "textposition": "auto",
           "texttemplate": "%{x}",
           "type": "bar",
           "x": [
            23223
           ],
           "xaxis": "x",
           "y": [
            "Loja 5"
           ],
           "yaxis": "y"
          },
          {
           "alignmentgroup": "True",
           "hovertemplate": "loja=%{y}<br>ano_mes=2020-11<br>acumulado=%{x}<extra></extra>",
           "legendgroup": "Loja 6",
           "marker": {
            "color": "#19d3f3",
            "pattern": {
             "shape": ""
            }
           },
           "name": "Loja 6",
           "offsetgroup": "Loja 6",
           "orientation": "h",
           "showlegend": true,
           "textposition": "auto",
           "texttemplate": "%{x}",
           "type": "bar",
           "x": [
            16060
           ],
           "xaxis": "x",
           "y": [
            "Loja 6"
           ],
           "yaxis": "y"
          }
         ],
         "name": "2020-11"
        },
        {
         "data": [
          {
           "alignmentgroup": "True",
           "hovertemplate": "loja=%{y}<br>ano_mes=2020-12<br>acumulado=%{x}<extra></extra>",
           "legendgroup": "Loja 1",
           "marker": {
            "color": "#636efa",
            "pattern": {
             "shape": ""
            }
           },
           "name": "Loja 1",
           "offsetgroup": "Loja 1",
           "orientation": "h",
           "showlegend": true,
           "textposition": "auto",
           "texttemplate": "%{x}",
           "type": "bar",
           "x": [
            26280
           ],
           "xaxis": "x",
           "y": [
            "Loja 1"
           ],
           "yaxis": "y"
          },
          {
           "alignmentgroup": "True",
           "hovertemplate": "loja=%{y}<br>ano_mes=2020-12<br>acumulado=%{x}<extra></extra>",
           "legendgroup": "Loja 2",
           "marker": {
            "color": "#EF553B",
            "pattern": {
             "shape": ""
            }
           },
           "name": "Loja 2",
           "offsetgroup": "Loja 2",
           "orientation": "h",
           "showlegend": true,
           "textposition": "auto",
           "texttemplate": "%{x}",
           "type": "bar",
           "x": [
            16936
           ],
           "xaxis": "x",
           "y": [
            "Loja 2"
           ],
           "yaxis": "y"
          },
          {
           "alignmentgroup": "True",
           "hovertemplate": "loja=%{y}<br>ano_mes=2020-12<br>acumulado=%{x}<extra></extra>",
           "legendgroup": "Loja 3",
           "marker": {
            "color": "#00cc96",
            "pattern": {
             "shape": ""
            }
           },
           "name": "Loja 3",
           "offsetgroup": "Loja 3",
           "orientation": "h",
           "showlegend": true,
           "textposition": "auto",
           "texttemplate": "%{x}",
           "type": "bar",
           "x": [
            24583
           ],
           "xaxis": "x",
           "y": [
            "Loja 3"
           ],
           "yaxis": "y"
          },
          {
           "alignmentgroup": "True",
           "hovertemplate": "loja=%{y}<br>ano_mes=2020-12<br>acumulado=%{x}<extra></extra>",
           "legendgroup": "Loja 4",
           "marker": {
            "color": "#ab63fa",
            "pattern": {
             "shape": ""
            }
           },
           "name": "Loja 4",
           "offsetgroup": "Loja 4",
           "orientation": "h",
           "showlegend": true,
           "textposition": "auto",
           "texttemplate": "%{x}",
           "type": "bar",
           "x": [
            36772
           ],
           "xaxis": "x",
           "y": [
            "Loja 4"
           ],
           "yaxis": "y"
          },
          {
           "alignmentgroup": "True",
           "hovertemplate": "loja=%{y}<br>ano_mes=2020-12<br>acumulado=%{x}<extra></extra>",
           "legendgroup": "Loja 5",
           "marker": {
            "color": "#FFA15A",
            "pattern": {
             "shape": ""
            }
           },
           "name": "Loja 5",
           "offsetgroup": "Loja 5",
           "orientation": "h",
           "showlegend": true,
           "textposition": "auto",
           "texttemplate": "%{x}",
           "type": "bar",
           "x": [
            25273
           ],
           "xaxis": "x",
           "y": [
            "Loja 5"
           ],
           "yaxis": "y"
          },
          {
           "alignmentgroup": "True",
           "hovertemplate": "loja=%{y}<br>ano_mes=2020-12<br>acumulado=%{x}<extra></extra>",
           "legendgroup": "Loja 6",
           "marker": {
            "color": "#19d3f3",
            "pattern": {
             "shape": ""
            }
           },
           "name": "Loja 6",
           "offsetgroup": "Loja 6",
           "orientation": "h",
           "showlegend": true,
           "textposition": "auto",
           "texttemplate": "%{x}",
           "type": "bar",
           "x": [
            16225
           ],
           "xaxis": "x",
           "y": [
            "Loja 6"
           ],
           "yaxis": "y"
          }
         ],
         "name": "2020-12"
        },
        {
         "data": [
          {
           "alignmentgroup": "True",
           "hovertemplate": "loja=%{y}<br>ano_mes=2021-01<br>acumulado=%{x}<extra></extra>",
           "legendgroup": "Loja 1",
           "marker": {
            "color": "#636efa",
            "pattern": {
             "shape": ""
            }
           },
           "name": "Loja 1",
           "offsetgroup": "Loja 1",
           "orientation": "h",
           "showlegend": true,
           "textposition": "auto",
           "texttemplate": "%{x}",
           "type": "bar",
           "x": [
            28255
           ],
           "xaxis": "x",
           "y": [
            "Loja 1"
           ],
           "yaxis": "y"
          },
          {
           "alignmentgroup": "True",
           "hovertemplate": "loja=%{y}<br>ano_mes=2021-01<br>acumulado=%{x}<extra></extra>",
           "legendgroup": "Loja 2",
           "marker": {
            "color": "#EF553B",
            "pattern": {
             "shape": ""
            }
           },
           "name": "Loja 2",
           "offsetgroup": "Loja 2",
           "orientation": "h",
           "showlegend": true,
           "textposition": "auto",
           "texttemplate": "%{x}",
           "type": "bar",
           "x": [
            18452
           ],
           "xaxis": "x",
           "y": [
            "Loja 2"
           ],
           "yaxis": "y"
          },
          {
           "alignmentgroup": "True",
           "hovertemplate": "loja=%{y}<br>ano_mes=2021-01<br>acumulado=%{x}<extra></extra>",
           "legendgroup": "Loja 3",
           "marker": {
            "color": "#00cc96",
            "pattern": {
             "shape": ""
            }
           },
           "name": "Loja 3",
           "offsetgroup": "Loja 3",
           "orientation": "h",
           "showlegend": true,
           "textposition": "auto",
           "texttemplate": "%{x}",
           "type": "bar",
           "x": [
            26702
           ],
           "xaxis": "x",
           "y": [
            "Loja 3"
           ],
           "yaxis": "y"
          },
          {
           "alignmentgroup": "True",
           "hovertemplate": "loja=%{y}<br>ano_mes=2021-01<br>acumulado=%{x}<extra></extra>",
           "legendgroup": "Loja 4",
           "marker": {
            "color": "#ab63fa",
            "pattern": {
             "shape": ""
            }
           },
           "name": "Loja 4",
           "offsetgroup": "Loja 4",
           "orientation": "h",
           "showlegend": true,
           "textposition": "auto",
           "texttemplate": "%{x}",
           "type": "bar",
           "x": [
            40231
           ],
           "xaxis": "x",
           "y": [
            "Loja 4"
           ],
           "yaxis": "y"
          },
          {
           "alignmentgroup": "True",
           "hovertemplate": "loja=%{y}<br>ano_mes=2021-01<br>acumulado=%{x}<extra></extra>",
           "legendgroup": "Loja 5",
           "marker": {
            "color": "#FFA15A",
            "pattern": {
             "shape": ""
            }
           },
           "name": "Loja 5",
           "offsetgroup": "Loja 5",
           "orientation": "h",
           "showlegend": true,
           "textposition": "auto",
           "texttemplate": "%{x}",
           "type": "bar",
           "x": [
            27569
           ],
           "xaxis": "x",
           "y": [
            "Loja 5"
           ],
           "yaxis": "y"
          },
          {
           "alignmentgroup": "True",
           "hovertemplate": "loja=%{y}<br>ano_mes=2021-01<br>acumulado=%{x}<extra></extra>",
           "legendgroup": "Loja 6",
           "marker": {
            "color": "#19d3f3",
            "pattern": {
             "shape": ""
            }
           },
           "name": "Loja 6",
           "offsetgroup": "Loja 6",
           "orientation": "h",
           "showlegend": true,
           "textposition": "auto",
           "texttemplate": "%{x}",
           "type": "bar",
           "x": [
            17031
           ],
           "xaxis": "x",
           "y": [
            "Loja 6"
           ],
           "yaxis": "y"
          }
         ],
         "name": "2021-01"
        },
        {
         "data": [
          {
           "alignmentgroup": "True",
           "hovertemplate": "loja=%{y}<br>ano_mes=2021-02<br>acumulado=%{x}<extra></extra>",
           "legendgroup": "Loja 1",
           "marker": {
            "color": "#636efa",
            "pattern": {
             "shape": ""
            }
           },
           "name": "Loja 1",
           "offsetgroup": "Loja 1",
           "orientation": "h",
           "showlegend": true,
           "textposition": "auto",
           "texttemplate": "%{x}",
           "type": "bar",
           "x": [
            30106
           ],
           "xaxis": "x",
           "y": [
            "Loja 1"
           ],
           "yaxis": "y"
          },
          {
           "alignmentgroup": "True",
           "hovertemplate": "loja=%{y}<br>ano_mes=2021-02<br>acumulado=%{x}<extra></extra>",
           "legendgroup": "Loja 2",
           "marker": {
            "color": "#EF553B",
            "pattern": {
             "shape": ""
            }
           },
           "name": "Loja 2",
           "offsetgroup": "Loja 2",
           "orientation": "h",
           "showlegend": true,
           "textposition": "auto",
           "texttemplate": "%{x}",
           "type": "bar",
           "x": [
            19794
           ],
           "xaxis": "x",
           "y": [
            "Loja 2"
           ],
           "yaxis": "y"
          },
          {
           "alignmentgroup": "True",
           "hovertemplate": "loja=%{y}<br>ano_mes=2021-02<br>acumulado=%{x}<extra></extra>",
           "legendgroup": "Loja 3",
           "marker": {
            "color": "#00cc96",
            "pattern": {
             "shape": ""
            }
           },
           "name": "Loja 3",
           "offsetgroup": "Loja 3",
           "orientation": "h",
           "showlegend": true,
           "textposition": "auto",
           "texttemplate": "%{x}",
           "type": "bar",
           "x": [
            28601
           ],
           "xaxis": "x",
           "y": [
            "Loja 3"
           ],
           "yaxis": "y"
          },
          {
           "alignmentgroup": "True",
           "hovertemplate": "loja=%{y}<br>ano_mes=2021-02<br>acumulado=%{x}<extra></extra>",
           "legendgroup": "Loja 4",
           "marker": {
            "color": "#ab63fa",
            "pattern": {
             "shape": ""
            }
           },
           "name": "Loja 4",
           "offsetgroup": "Loja 4",
           "orientation": "h",
           "showlegend": true,
           "textposition": "auto",
           "texttemplate": "%{x}",
           "type": "bar",
           "x": [
            43749
           ],
           "xaxis": "x",
           "y": [
            "Loja 4"
           ],
           "yaxis": "y"
          },
          {
           "alignmentgroup": "True",
           "hovertemplate": "loja=%{y}<br>ano_mes=2021-02<br>acumulado=%{x}<extra></extra>",
           "legendgroup": "Loja 5",
           "marker": {
            "color": "#FFA15A",
            "pattern": {
             "shape": ""
            }
           },
           "name": "Loja 5",
           "offsetgroup": "Loja 5",
           "orientation": "h",
           "showlegend": true,
           "textposition": "auto",
           "texttemplate": "%{x}",
           "type": "bar",
           "x": [
            29509
           ],
           "xaxis": "x",
           "y": [
            "Loja 5"
           ],
           "yaxis": "y"
          },
          {
           "alignmentgroup": "True",
           "hovertemplate": "loja=%{y}<br>ano_mes=2021-02<br>acumulado=%{x}<extra></extra>",
           "legendgroup": "Loja 6",
           "marker": {
            "color": "#19d3f3",
            "pattern": {
             "shape": ""
            }
           },
           "name": "Loja 6",
           "offsetgroup": "Loja 6",
           "orientation": "h",
           "showlegend": true,
           "textposition": "auto",
           "texttemplate": "%{x}",
           "type": "bar",
           "x": [
            17423
           ],
           "xaxis": "x",
           "y": [
            "Loja 6"
           ],
           "yaxis": "y"
          }
         ],
         "name": "2021-02"
        },
        {
         "data": [
          {
           "alignmentgroup": "True",
           "hovertemplate": "loja=%{y}<br>ano_mes=2021-03<br>acumulado=%{x}<extra></extra>",
           "legendgroup": "Loja 1",
           "marker": {
            "color": "#636efa",
            "pattern": {
             "shape": ""
            }
           },
           "name": "Loja 1",
           "offsetgroup": "Loja 1",
           "orientation": "h",
           "showlegend": true,
           "textposition": "auto",
           "texttemplate": "%{x}",
           "type": "bar",
           "x": [
            32318
           ],
           "xaxis": "x",
           "y": [
            "Loja 1"
           ],
           "yaxis": "y"
          },
          {
           "alignmentgroup": "True",
           "hovertemplate": "loja=%{y}<br>ano_mes=2021-03<br>acumulado=%{x}<extra></extra>",
           "legendgroup": "Loja 2",
           "marker": {
            "color": "#EF553B",
            "pattern": {
             "shape": ""
            }
           },
           "name": "Loja 2",
           "offsetgroup": "Loja 2",
           "orientation": "h",
           "showlegend": true,
           "textposition": "auto",
           "texttemplate": "%{x}",
           "type": "bar",
           "x": [
            21326
           ],
           "xaxis": "x",
           "y": [
            "Loja 2"
           ],
           "yaxis": "y"
          },
          {
           "alignmentgroup": "True",
           "hovertemplate": "loja=%{y}<br>ano_mes=2021-03<br>acumulado=%{x}<extra></extra>",
           "legendgroup": "Loja 3",
           "marker": {
            "color": "#00cc96",
            "pattern": {
             "shape": ""
            }
           },
           "name": "Loja 3",
           "offsetgroup": "Loja 3",
           "orientation": "h",
           "showlegend": true,
           "textposition": "auto",
           "texttemplate": "%{x}",
           "type": "bar",
           "x": [
            30934
           ],
           "xaxis": "x",
           "y": [
            "Loja 3"
           ],
           "yaxis": "y"
          },
          {
           "alignmentgroup": "True",
           "hovertemplate": "loja=%{y}<br>ano_mes=2021-03<br>acumulado=%{x}<extra></extra>",
           "legendgroup": "Loja 4",
           "marker": {
            "color": "#ab63fa",
            "pattern": {
             "shape": ""
            }
           },
           "name": "Loja 4",
           "offsetgroup": "Loja 4",
           "orientation": "h",
           "showlegend": true,
           "textposition": "auto",
           "texttemplate": "%{x}",
           "type": "bar",
           "x": [
            47170
           ],
           "xaxis": "x",
           "y": [
            "Loja 4"
           ],
           "yaxis": "y"
          },
          {
           "alignmentgroup": "True",
           "hovertemplate": "loja=%{y}<br>ano_mes=2021-03<br>acumulado=%{x}<extra></extra>",
           "legendgroup": "Loja 5",
           "marker": {
            "color": "#FFA15A",
            "pattern": {
             "shape": ""
            }
           },
           "name": "Loja 5",
           "offsetgroup": "Loja 5",
           "orientation": "h",
           "showlegend": true,
           "textposition": "auto",
           "texttemplate": "%{x}",
           "type": "bar",
           "x": [
            31986
           ],
           "xaxis": "x",
           "y": [
            "Loja 5"
           ],
           "yaxis": "y"
          },
          {
           "alignmentgroup": "True",
           "hovertemplate": "loja=%{y}<br>ano_mes=2021-03<br>acumulado=%{x}<extra></extra>",
           "legendgroup": "Loja 6",
           "marker": {
            "color": "#19d3f3",
            "pattern": {
             "shape": ""
            }
           },
           "name": "Loja 6",
           "offsetgroup": "Loja 6",
           "orientation": "h",
           "showlegend": true,
           "textposition": "auto",
           "texttemplate": "%{x}",
           "type": "bar",
           "x": [
            18794
           ],
           "xaxis": "x",
           "y": [
            "Loja 6"
           ],
           "yaxis": "y"
          }
         ],
         "name": "2021-03"
        },
        {
         "data": [
          {
           "alignmentgroup": "True",
           "hovertemplate": "loja=%{y}<br>ano_mes=2021-04<br>acumulado=%{x}<extra></extra>",
           "legendgroup": "Loja 1",
           "marker": {
            "color": "#636efa",
            "pattern": {
             "shape": ""
            }
           },
           "name": "Loja 1",
           "offsetgroup": "Loja 1",
           "orientation": "h",
           "showlegend": true,
           "textposition": "auto",
           "texttemplate": "%{x}",
           "type": "bar",
           "x": [
            34239
           ],
           "xaxis": "x",
           "y": [
            "Loja 1"
           ],
           "yaxis": "y"
          },
          {
           "alignmentgroup": "True",
           "hovertemplate": "loja=%{y}<br>ano_mes=2021-04<br>acumulado=%{x}<extra></extra>",
           "legendgroup": "Loja 2",
           "marker": {
            "color": "#EF553B",
            "pattern": {
             "shape": ""
            }
           },
           "name": "Loja 2",
           "offsetgroup": "Loja 2",
           "orientation": "h",
           "showlegend": true,
           "textposition": "auto",
           "texttemplate": "%{x}",
           "type": "bar",
           "x": [
            22662
           ],
           "xaxis": "x",
           "y": [
            "Loja 2"
           ],
           "yaxis": "y"
          },
          {
           "alignmentgroup": "True",
           "hovertemplate": "loja=%{y}<br>ano_mes=2021-04<br>acumulado=%{x}<extra></extra>",
           "legendgroup": "Loja 3",
           "marker": {
            "color": "#00cc96",
            "pattern": {
             "shape": ""
            }
           },
           "name": "Loja 3",
           "offsetgroup": "Loja 3",
           "orientation": "h",
           "showlegend": true,
           "textposition": "auto",
           "texttemplate": "%{x}",
           "type": "bar",
           "x": [
            32761
           ],
           "xaxis": "x",
           "y": [
            "Loja 3"
           ],
           "yaxis": "y"
          },
          {
           "alignmentgroup": "True",
           "hovertemplate": "loja=%{y}<br>ano_mes=2021-04<br>acumulado=%{x}<extra></extra>",
           "legendgroup": "Loja 4",
           "marker": {
            "color": "#ab63fa",
            "pattern": {
             "shape": ""
            }
           },
           "name": "Loja 4",
           "offsetgroup": "Loja 4",
           "orientation": "h",
           "showlegend": true,
           "textposition": "auto",
           "texttemplate": "%{x}",
           "type": "bar",
           "x": [
            50065
           ],
           "xaxis": "x",
           "y": [
            "Loja 4"
           ],
           "yaxis": "y"
          },
          {
           "alignmentgroup": "True",
           "hovertemplate": "loja=%{y}<br>ano_mes=2021-04<br>acumulado=%{x}<extra></extra>",
           "legendgroup": "Loja 5",
           "marker": {
            "color": "#FFA15A",
            "pattern": {
             "shape": ""
            }
           },
           "name": "Loja 5",
           "offsetgroup": "Loja 5",
           "orientation": "h",
           "showlegend": true,
           "textposition": "auto",
           "texttemplate": "%{x}",
           "type": "bar",
           "x": [
            34020
           ],
           "xaxis": "x",
           "y": [
            "Loja 5"
           ],
           "yaxis": "y"
          },
          {
           "alignmentgroup": "True",
           "hovertemplate": "loja=%{y}<br>ano_mes=2021-04<br>acumulado=%{x}<extra></extra>",
           "legendgroup": "Loja 6",
           "marker": {
            "color": "#19d3f3",
            "pattern": {
             "shape": ""
            }
           },
           "name": "Loja 6",
           "offsetgroup": "Loja 6",
           "orientation": "h",
           "showlegend": true,
           "textposition": "auto",
           "texttemplate": "%{x}",
           "type": "bar",
           "x": [
            20049
           ],
           "xaxis": "x",
           "y": [
            "Loja 6"
           ],
           "yaxis": "y"
          }
         ],
         "name": "2021-04"
        },
        {
         "data": [
          {
           "alignmentgroup": "True",
           "hovertemplate": "loja=%{y}<br>ano_mes=2021-05<br>acumulado=%{x}<extra></extra>",
           "legendgroup": "Loja 1",
           "marker": {
            "color": "#636efa",
            "pattern": {
             "shape": ""
            }
           },
           "name": "Loja 1",
           "offsetgroup": "Loja 1",
           "orientation": "h",
           "showlegend": true,
           "textposition": "auto",
           "texttemplate": "%{x}",
           "type": "bar",
           "x": [
            36252
           ],
           "xaxis": "x",
           "y": [
            "Loja 1"
           ],
           "yaxis": "y"
          },
          {
           "alignmentgroup": "True",
           "hovertemplate": "loja=%{y}<br>ano_mes=2021-05<br>acumulado=%{x}<extra></extra>",
           "legendgroup": "Loja 2",
           "marker": {
            "color": "#EF553B",
            "pattern": {
             "shape": ""
            }
           },
           "name": "Loja 2",
           "offsetgroup": "Loja 2",
           "orientation": "h",
           "showlegend": true,
           "textposition": "auto",
           "texttemplate": "%{x}",
           "type": "bar",
           "x": [
            24319
           ],
           "xaxis": "x",
           "y": [
            "Loja 2"
           ],
           "yaxis": "y"
          },
          {
           "alignmentgroup": "True",
           "hovertemplate": "loja=%{y}<br>ano_mes=2021-05<br>acumulado=%{x}<extra></extra>",
           "legendgroup": "Loja 3",
           "marker": {
            "color": "#00cc96",
            "pattern": {
             "shape": ""
            }
           },
           "name": "Loja 3",
           "offsetgroup": "Loja 3",
           "orientation": "h",
           "showlegend": true,
           "textposition": "auto",
           "texttemplate": "%{x}",
           "type": "bar",
           "x": [
            35123
           ],
           "xaxis": "x",
           "y": [
            "Loja 3"
           ],
           "yaxis": "y"
          },
          {
           "alignmentgroup": "True",
           "hovertemplate": "loja=%{y}<br>ano_mes=2021-05<br>acumulado=%{x}<extra></extra>",
           "legendgroup": "Loja 4",
           "marker": {
            "color": "#ab63fa",
            "pattern": {
             "shape": ""
            }
           },
           "name": "Loja 4",
           "offsetgroup": "Loja 4",
           "orientation": "h",
           "showlegend": true,
           "textposition": "auto",
           "texttemplate": "%{x}",
           "type": "bar",
           "x": [
            51651
           ],
           "xaxis": "x",
           "y": [
            "Loja 4"
           ],
           "yaxis": "y"
          },
          {
           "alignmentgroup": "True",
           "hovertemplate": "loja=%{y}<br>ano_mes=2021-05<br>acumulado=%{x}<extra></extra>",
           "legendgroup": "Loja 5",
           "marker": {
            "color": "#FFA15A",
            "pattern": {
             "shape": ""
            }
           },
           "name": "Loja 5",
           "offsetgroup": "Loja 5",
           "orientation": "h",
           "showlegend": true,
           "textposition": "auto",
           "texttemplate": "%{x}",
           "type": "bar",
           "x": [
            36261
           ],
           "xaxis": "x",
           "y": [
            "Loja 5"
           ],
           "yaxis": "y"
          },
          {
           "alignmentgroup": "True",
           "hovertemplate": "loja=%{y}<br>ano_mes=2021-05<br>acumulado=%{x}<extra></extra>",
           "legendgroup": "Loja 6",
           "marker": {
            "color": "#19d3f3",
            "pattern": {
             "shape": ""
            }
           },
           "name": "Loja 6",
           "offsetgroup": "Loja 6",
           "orientation": "h",
           "showlegend": true,
           "textposition": "auto",
           "texttemplate": "%{x}",
           "type": "bar",
           "x": [
            22492
           ],
           "xaxis": "x",
           "y": [
            "Loja 6"
           ],
           "yaxis": "y"
          }
         ],
         "name": "2021-05"
        },
        {
         "data": [
          {
           "alignmentgroup": "True",
           "hovertemplate": "loja=%{y}<br>ano_mes=2021-06<br>acumulado=%{x}<extra></extra>",
           "legendgroup": "Loja 1",
           "marker": {
            "color": "#636efa",
            "pattern": {
             "shape": ""
            }
           },
           "name": "Loja 1",
           "offsetgroup": "Loja 1",
           "orientation": "h",
           "showlegend": true,
           "textposition": "auto",
           "texttemplate": "%{x}",
           "type": "bar",
           "x": [
            38266
           ],
           "xaxis": "x",
           "y": [
            "Loja 1"
           ],
           "yaxis": "y"
          },
          {
           "alignmentgroup": "True",
           "hovertemplate": "loja=%{y}<br>ano_mes=2021-06<br>acumulado=%{x}<extra></extra>",
           "legendgroup": "Loja 2",
           "marker": {
            "color": "#EF553B",
            "pattern": {
             "shape": ""
            }
           },
           "name": "Loja 2",
           "offsetgroup": "Loja 2",
           "orientation": "h",
           "showlegend": true,
           "textposition": "auto",
           "texttemplate": "%{x}",
           "type": "bar",
           "x": [
            25642
           ],
           "xaxis": "x",
           "y": [
            "Loja 2"
           ],
           "yaxis": "y"
          },
          {
           "alignmentgroup": "True",
           "hovertemplate": "loja=%{y}<br>ano_mes=2021-06<br>acumulado=%{x}<extra></extra>",
           "legendgroup": "Loja 3",
           "marker": {
            "color": "#00cc96",
            "pattern": {
             "shape": ""
            }
           },
           "name": "Loja 3",
           "offsetgroup": "Loja 3",
           "orientation": "h",
           "showlegend": true,
           "textposition": "auto",
           "texttemplate": "%{x}",
           "type": "bar",
           "x": [
            36943
           ],
           "xaxis": "x",
           "y": [
            "Loja 3"
           ],
           "yaxis": "y"
          },
          {
           "alignmentgroup": "True",
           "hovertemplate": "loja=%{y}<br>ano_mes=2021-06<br>acumulado=%{x}<extra></extra>",
           "legendgroup": "Loja 4",
           "marker": {
            "color": "#ab63fa",
            "pattern": {
             "shape": ""
            }
           },
           "name": "Loja 4",
           "offsetgroup": "Loja 4",
           "orientation": "h",
           "showlegend": true,
           "textposition": "auto",
           "texttemplate": "%{x}",
           "type": "bar",
           "x": [
            53165
           ],
           "xaxis": "x",
           "y": [
            "Loja 4"
           ],
           "yaxis": "y"
          },
          {
           "alignmentgroup": "True",
           "hovertemplate": "loja=%{y}<br>ano_mes=2021-06<br>acumulado=%{x}<extra></extra>",
           "legendgroup": "Loja 5",
           "marker": {
            "color": "#FFA15A",
            "pattern": {
             "shape": ""
            }
           },
           "name": "Loja 5",
           "offsetgroup": "Loja 5",
           "orientation": "h",
           "showlegend": true,
           "textposition": "auto",
           "texttemplate": "%{x}",
           "type": "bar",
           "x": [
            38210
           ],
           "xaxis": "x",
           "y": [
            "Loja 5"
           ],
           "yaxis": "y"
          },
          {
           "alignmentgroup": "True",
           "hovertemplate": "loja=%{y}<br>ano_mes=2021-06<br>acumulado=%{x}<extra></extra>",
           "legendgroup": "Loja 6",
           "marker": {
            "color": "#19d3f3",
            "pattern": {
             "shape": ""
            }
           },
           "name": "Loja 6",
           "offsetgroup": "Loja 6",
           "orientation": "h",
           "showlegend": true,
           "textposition": "auto",
           "texttemplate": "%{x}",
           "type": "bar",
           "x": [
            25132
           ],
           "xaxis": "x",
           "y": [
            "Loja 6"
           ],
           "yaxis": "y"
          }
         ],
         "name": "2021-06"
        },
        {
         "data": [
          {
           "alignmentgroup": "True",
           "hovertemplate": "loja=%{y}<br>ano_mes=2021-07<br>acumulado=%{x}<extra></extra>",
           "legendgroup": "Loja 1",
           "marker": {
            "color": "#636efa",
            "pattern": {
             "shape": ""
            }
           },
           "name": "Loja 1",
           "offsetgroup": "Loja 1",
           "orientation": "h",
           "showlegend": true,
           "textposition": "auto",
           "texttemplate": "%{x}",
           "type": "bar",
           "x": [
            40720
           ],
           "xaxis": "x",
           "y": [
            "Loja 1"
           ],
           "yaxis": "y"
          },
          {
           "alignmentgroup": "True",
           "hovertemplate": "loja=%{y}<br>ano_mes=2021-07<br>acumulado=%{x}<extra></extra>",
           "legendgroup": "Loja 2",
           "marker": {
            "color": "#EF553B",
            "pattern": {
             "shape": ""
            }
           },
           "name": "Loja 2",
           "offsetgroup": "Loja 2",
           "orientation": "h",
           "showlegend": true,
           "textposition": "auto",
           "texttemplate": "%{x}",
           "type": "bar",
           "x": [
            27036
           ],
           "xaxis": "x",
           "y": [
            "Loja 2"
           ],
           "yaxis": "y"
          },
          {
           "alignmentgroup": "True",
           "hovertemplate": "loja=%{y}<br>ano_mes=2021-07<br>acumulado=%{x}<extra></extra>",
           "legendgroup": "Loja 3",
           "marker": {
            "color": "#00cc96",
            "pattern": {
             "shape": ""
            }
           },
           "name": "Loja 3",
           "offsetgroup": "Loja 3",
           "orientation": "h",
           "showlegend": true,
           "textposition": "auto",
           "texttemplate": "%{x}",
           "type": "bar",
           "x": [
            39197
           ],
           "xaxis": "x",
           "y": [
            "Loja 3"
           ],
           "yaxis": "y"
          },
          {
           "alignmentgroup": "True",
           "hovertemplate": "loja=%{y}<br>ano_mes=2021-07<br>acumulado=%{x}<extra></extra>",
           "legendgroup": "Loja 4",
           "marker": {
            "color": "#ab63fa",
            "pattern": {
             "shape": ""
            }
           },
           "name": "Loja 4",
           "offsetgroup": "Loja 4",
           "orientation": "h",
           "showlegend": true,
           "textposition": "auto",
           "texttemplate": "%{x}",
           "type": "bar",
           "x": [
            55036
           ],
           "xaxis": "x",
           "y": [
            "Loja 4"
           ],
           "yaxis": "y"
          },
          {
           "alignmentgroup": "True",
           "hovertemplate": "loja=%{y}<br>ano_mes=2021-07<br>acumulado=%{x}<extra></extra>",
           "legendgroup": "Loja 5",
           "marker": {
            "color": "#FFA15A",
            "pattern": {
             "shape": ""
            }
           },
           "name": "Loja 5",
           "offsetgroup": "Loja 5",
           "orientation": "h",
           "showlegend": true,
           "textposition": "auto",
           "texttemplate": "%{x}",
           "type": "bar",
           "x": [
            40291
           ],
           "xaxis": "x",
           "y": [
            "Loja 5"
           ],
           "yaxis": "y"
          },
          {
           "alignmentgroup": "True",
           "hovertemplate": "loja=%{y}<br>ano_mes=2021-07<br>acumulado=%{x}<extra></extra>",
           "legendgroup": "Loja 6",
           "marker": {
            "color": "#19d3f3",
            "pattern": {
             "shape": ""
            }
           },
           "name": "Loja 6",
           "offsetgroup": "Loja 6",
           "orientation": "h",
           "showlegend": true,
           "textposition": "auto",
           "texttemplate": "%{x}",
           "type": "bar",
           "x": [
            27900
           ],
           "xaxis": "x",
           "y": [
            "Loja 6"
           ],
           "yaxis": "y"
          }
         ],
         "name": "2021-07"
        },
        {
         "data": [
          {
           "alignmentgroup": "True",
           "hovertemplate": "loja=%{y}<br>ano_mes=2021-08<br>acumulado=%{x}<extra></extra>",
           "legendgroup": "Loja 1",
           "marker": {
            "color": "#636efa",
            "pattern": {
             "shape": ""
            }
           },
           "name": "Loja 1",
           "offsetgroup": "Loja 1",
           "orientation": "h",
           "showlegend": true,
           "textposition": "auto",
           "texttemplate": "%{x}",
           "type": "bar",
           "x": [
            42885
           ],
           "xaxis": "x",
           "y": [
            "Loja 1"
           ],
           "yaxis": "y"
          },
          {
           "alignmentgroup": "True",
           "hovertemplate": "loja=%{y}<br>ano_mes=2021-08<br>acumulado=%{x}<extra></extra>",
           "legendgroup": "Loja 2",
           "marker": {
            "color": "#EF553B",
            "pattern": {
             "shape": ""
            }
           },
           "name": "Loja 2",
           "offsetgroup": "Loja 2",
           "orientation": "h",
           "showlegend": true,
           "textposition": "auto",
           "texttemplate": "%{x}",
           "type": "bar",
           "x": [
            28504
           ],
           "xaxis": "x",
           "y": [
            "Loja 2"
           ],
           "yaxis": "y"
          },
          {
           "alignmentgroup": "True",
           "hovertemplate": "loja=%{y}<br>ano_mes=2021-08<br>acumulado=%{x}<extra></extra>",
           "legendgroup": "Loja 3",
           "marker": {
            "color": "#00cc96",
            "pattern": {
             "shape": ""
            }
           },
           "name": "Loja 3",
           "offsetgroup": "Loja 3",
           "orientation": "h",
           "showlegend": true,
           "textposition": "auto",
           "texttemplate": "%{x}",
           "type": "bar",
           "x": [
            41189
           ],
           "xaxis": "x",
           "y": [
            "Loja 3"
           ],
           "yaxis": "y"
          },
          {
           "alignmentgroup": "True",
           "hovertemplate": "loja=%{y}<br>ano_mes=2021-08<br>acumulado=%{x}<extra></extra>",
           "legendgroup": "Loja 4",
           "marker": {
            "color": "#ab63fa",
            "pattern": {
             "shape": ""
            }
           },
           "name": "Loja 4",
           "offsetgroup": "Loja 4",
           "orientation": "h",
           "showlegend": true,
           "textposition": "auto",
           "texttemplate": "%{x}",
           "type": "bar",
           "x": [
            57723
           ],
           "xaxis": "x",
           "y": [
            "Loja 4"
           ],
           "yaxis": "y"
          },
          {
           "alignmentgroup": "True",
           "hovertemplate": "loja=%{y}<br>ano_mes=2021-08<br>acumulado=%{x}<extra></extra>",
           "legendgroup": "Loja 5",
           "marker": {
            "color": "#FFA15A",
            "pattern": {
             "shape": ""
            }
           },
           "name": "Loja 5",
           "offsetgroup": "Loja 5",
           "orientation": "h",
           "showlegend": true,
           "textposition": "auto",
           "texttemplate": "%{x}",
           "type": "bar",
           "x": [
            42508
           ],
           "xaxis": "x",
           "y": [
            "Loja 5"
           ],
           "yaxis": "y"
          },
          {
           "alignmentgroup": "True",
           "hovertemplate": "loja=%{y}<br>ano_mes=2021-08<br>acumulado=%{x}<extra></extra>",
           "legendgroup": "Loja 6",
           "marker": {
            "color": "#19d3f3",
            "pattern": {
             "shape": ""
            }
           },
           "name": "Loja 6",
           "offsetgroup": "Loja 6",
           "orientation": "h",
           "showlegend": true,
           "textposition": "auto",
           "texttemplate": "%{x}",
           "type": "bar",
           "x": [
            29598
           ],
           "xaxis": "x",
           "y": [
            "Loja 6"
           ],
           "yaxis": "y"
          }
         ],
         "name": "2021-08"
        },
        {
         "data": [
          {
           "alignmentgroup": "True",
           "hovertemplate": "loja=%{y}<br>ano_mes=2021-09<br>acumulado=%{x}<extra></extra>",
           "legendgroup": "Loja 1",
           "marker": {
            "color": "#636efa",
            "pattern": {
             "shape": ""
            }
           },
           "name": "Loja 1",
           "offsetgroup": "Loja 1",
           "orientation": "h",
           "showlegend": true,
           "textposition": "auto",
           "texttemplate": "%{x}",
           "type": "bar",
           "x": [
            45016
           ],
           "xaxis": "x",
           "y": [
            "Loja 1"
           ],
           "yaxis": "y"
          },
          {
           "alignmentgroup": "True",
           "hovertemplate": "loja=%{y}<br>ano_mes=2021-09<br>acumulado=%{x}<extra></extra>",
           "legendgroup": "Loja 2",
           "marker": {
            "color": "#EF553B",
            "pattern": {
             "shape": ""
            }
           },
           "name": "Loja 2",
           "offsetgroup": "Loja 2",
           "orientation": "h",
           "showlegend": true,
           "textposition": "auto",
           "texttemplate": "%{x}",
           "type": "bar",
           "x": [
            30012
           ],
           "xaxis": "x",
           "y": [
            "Loja 2"
           ],
           "yaxis": "y"
          },
          {
           "alignmentgroup": "True",
           "hovertemplate": "loja=%{y}<br>ano_mes=2021-09<br>acumulado=%{x}<extra></extra>",
           "legendgroup": "Loja 3",
           "marker": {
            "color": "#00cc96",
            "pattern": {
             "shape": ""
            }
           },
           "name": "Loja 3",
           "offsetgroup": "Loja 3",
           "orientation": "h",
           "showlegend": true,
           "textposition": "auto",
           "texttemplate": "%{x}",
           "type": "bar",
           "x": [
            43258
           ],
           "xaxis": "x",
           "y": [
            "Loja 3"
           ],
           "yaxis": "y"
          },
          {
           "alignmentgroup": "True",
           "hovertemplate": "loja=%{y}<br>ano_mes=2021-09<br>acumulado=%{x}<extra></extra>",
           "legendgroup": "Loja 4",
           "marker": {
            "color": "#ab63fa",
            "pattern": {
             "shape": ""
            }
           },
           "name": "Loja 4",
           "offsetgroup": "Loja 4",
           "orientation": "h",
           "showlegend": true,
           "textposition": "auto",
           "texttemplate": "%{x}",
           "type": "bar",
           "x": [
            60019
           ],
           "xaxis": "x",
           "y": [
            "Loja 4"
           ],
           "yaxis": "y"
          },
          {
           "alignmentgroup": "True",
           "hovertemplate": "loja=%{y}<br>ano_mes=2021-09<br>acumulado=%{x}<extra></extra>",
           "legendgroup": "Loja 5",
           "marker": {
            "color": "#FFA15A",
            "pattern": {
             "shape": ""
            }
           },
           "name": "Loja 5",
           "offsetgroup": "Loja 5",
           "orientation": "h",
           "showlegend": true,
           "textposition": "auto",
           "texttemplate": "%{x}",
           "type": "bar",
           "x": [
            44650
           ],
           "xaxis": "x",
           "y": [
            "Loja 5"
           ],
           "yaxis": "y"
          },
          {
           "alignmentgroup": "True",
           "hovertemplate": "loja=%{y}<br>ano_mes=2021-09<br>acumulado=%{x}<extra></extra>",
           "legendgroup": "Loja 6",
           "marker": {
            "color": "#19d3f3",
            "pattern": {
             "shape": ""
            }
           },
           "name": "Loja 6",
           "offsetgroup": "Loja 6",
           "orientation": "h",
           "showlegend": true,
           "textposition": "auto",
           "texttemplate": "%{x}",
           "type": "bar",
           "x": [
            31375
           ],
           "xaxis": "x",
           "y": [
            "Loja 6"
           ],
           "yaxis": "y"
          }
         ],
         "name": "2021-09"
        },
        {
         "data": [
          {
           "alignmentgroup": "True",
           "hovertemplate": "loja=%{y}<br>ano_mes=2021-10<br>acumulado=%{x}<extra></extra>",
           "legendgroup": "Loja 1",
           "marker": {
            "color": "#636efa",
            "pattern": {
             "shape": ""
            }
           },
           "name": "Loja 1",
           "offsetgroup": "Loja 1",
           "orientation": "h",
           "showlegend": true,
           "textposition": "auto",
           "texttemplate": "%{x}",
           "type": "bar",
           "x": [
            47192
           ],
           "xaxis": "x",
           "y": [
            "Loja 1"
           ],
           "yaxis": "y"
          },
          {
           "alignmentgroup": "True",
           "hovertemplate": "loja=%{y}<br>ano_mes=2021-10<br>acumulado=%{x}<extra></extra>",
           "legendgroup": "Loja 2",
           "marker": {
            "color": "#EF553B",
            "pattern": {
             "shape": ""
            }
           },
           "name": "Loja 2",
           "offsetgroup": "Loja 2",
           "orientation": "h",
           "showlegend": true,
           "textposition": "auto",
           "texttemplate": "%{x}",
           "type": "bar",
           "x": [
            31521
           ],
           "xaxis": "x",
           "y": [
            "Loja 2"
           ],
           "yaxis": "y"
          },
          {
           "alignmentgroup": "True",
           "hovertemplate": "loja=%{y}<br>ano_mes=2021-10<br>acumulado=%{x}<extra></extra>",
           "legendgroup": "Loja 3",
           "marker": {
            "color": "#00cc96",
            "pattern": {
             "shape": ""
            }
           },
           "name": "Loja 3",
           "offsetgroup": "Loja 3",
           "orientation": "h",
           "showlegend": true,
           "textposition": "auto",
           "texttemplate": "%{x}",
           "type": "bar",
           "x": [
            45671
           ],
           "xaxis": "x",
           "y": [
            "Loja 3"
           ],
           "yaxis": "y"
          },
          {
           "alignmentgroup": "True",
           "hovertemplate": "loja=%{y}<br>ano_mes=2021-10<br>acumulado=%{x}<extra></extra>",
           "legendgroup": "Loja 4",
           "marker": {
            "color": "#ab63fa",
            "pattern": {
             "shape": ""
            }
           },
           "name": "Loja 4",
           "offsetgroup": "Loja 4",
           "orientation": "h",
           "showlegend": true,
           "textposition": "auto",
           "texttemplate": "%{x}",
           "type": "bar",
           "x": [
            62355
           ],
           "xaxis": "x",
           "y": [
            "Loja 4"
           ],
           "yaxis": "y"
          },
          {
           "alignmentgroup": "True",
           "hovertemplate": "loja=%{y}<br>ano_mes=2021-10<br>acumulado=%{x}<extra></extra>",
           "legendgroup": "Loja 5",
           "marker": {
            "color": "#FFA15A",
            "pattern": {
             "shape": ""
            }
           },
           "name": "Loja 5",
           "offsetgroup": "Loja 5",
           "orientation": "h",
           "showlegend": true,
           "textposition": "auto",
           "texttemplate": "%{x}",
           "type": "bar",
           "x": [
            46657
           ],
           "xaxis": "x",
           "y": [
            "Loja 5"
           ],
           "yaxis": "y"
          },
          {
           "alignmentgroup": "True",
           "hovertemplate": "loja=%{y}<br>ano_mes=2021-10<br>acumulado=%{x}<extra></extra>",
           "legendgroup": "Loja 6",
           "marker": {
            "color": "#19d3f3",
            "pattern": {
             "shape": ""
            }
           },
           "name": "Loja 6",
           "offsetgroup": "Loja 6",
           "orientation": "h",
           "showlegend": true,
           "textposition": "auto",
           "texttemplate": "%{x}",
           "type": "bar",
           "x": [
            33302
           ],
           "xaxis": "x",
           "y": [
            "Loja 6"
           ],
           "yaxis": "y"
          }
         ],
         "name": "2021-10"
        },
        {
         "data": [
          {
           "alignmentgroup": "True",
           "hovertemplate": "loja=%{y}<br>ano_mes=2021-11<br>acumulado=%{x}<extra></extra>",
           "legendgroup": "Loja 1",
           "marker": {
            "color": "#636efa",
            "pattern": {
             "shape": ""
            }
           },
           "name": "Loja 1",
           "offsetgroup": "Loja 1",
           "orientation": "h",
           "showlegend": true,
           "textposition": "auto",
           "texttemplate": "%{x}",
           "type": "bar",
           "x": [
            49249
           ],
           "xaxis": "x",
           "y": [
            "Loja 1"
           ],
           "yaxis": "y"
          },
          {
           "alignmentgroup": "True",
           "hovertemplate": "loja=%{y}<br>ano_mes=2021-11<br>acumulado=%{x}<extra></extra>",
           "legendgroup": "Loja 2",
           "marker": {
            "color": "#EF553B",
            "pattern": {
             "shape": ""
            }
           },
           "name": "Loja 2",
           "offsetgroup": "Loja 2",
           "orientation": "h",
           "showlegend": true,
           "textposition": "auto",
           "texttemplate": "%{x}",
           "type": "bar",
           "x": [
            32924
           ],
           "xaxis": "x",
           "y": [
            "Loja 2"
           ],
           "yaxis": "y"
          },
          {
           "alignmentgroup": "True",
           "hovertemplate": "loja=%{y}<br>ano_mes=2021-11<br>acumulado=%{x}<extra></extra>",
           "legendgroup": "Loja 3",
           "marker": {
            "color": "#00cc96",
            "pattern": {
             "shape": ""
            }
           },
           "name": "Loja 3",
           "offsetgroup": "Loja 3",
           "orientation": "h",
           "showlegend": true,
           "textposition": "auto",
           "texttemplate": "%{x}",
           "type": "bar",
           "x": [
            47919
           ],
           "xaxis": "x",
           "y": [
            "Loja 3"
           ],
           "yaxis": "y"
          },
          {
           "alignmentgroup": "True",
           "hovertemplate": "loja=%{y}<br>ano_mes=2021-11<br>acumulado=%{x}<extra></extra>",
           "legendgroup": "Loja 4",
           "marker": {
            "color": "#ab63fa",
            "pattern": {
             "shape": ""
            }
           },
           "name": "Loja 4",
           "offsetgroup": "Loja 4",
           "orientation": "h",
           "showlegend": true,
           "textposition": "auto",
           "texttemplate": "%{x}",
           "type": "bar",
           "x": [
            64707
           ],
           "xaxis": "x",
           "y": [
            "Loja 4"
           ],
           "yaxis": "y"
          },
          {
           "alignmentgroup": "True",
           "hovertemplate": "loja=%{y}<br>ano_mes=2021-11<br>acumulado=%{x}<extra></extra>",
           "legendgroup": "Loja 5",
           "marker": {
            "color": "#FFA15A",
            "pattern": {
             "shape": ""
            }
           },
           "name": "Loja 5",
           "offsetgroup": "Loja 5",
           "orientation": "h",
           "showlegend": true,
           "textposition": "auto",
           "texttemplate": "%{x}",
           "type": "bar",
           "x": [
            48876
           ],
           "xaxis": "x",
           "y": [
            "Loja 5"
           ],
           "yaxis": "y"
          },
          {
           "alignmentgroup": "True",
           "hovertemplate": "loja=%{y}<br>ano_mes=2021-11<br>acumulado=%{x}<extra></extra>",
           "legendgroup": "Loja 6",
           "marker": {
            "color": "#19d3f3",
            "pattern": {
             "shape": ""
            }
           },
           "name": "Loja 6",
           "offsetgroup": "Loja 6",
           "orientation": "h",
           "showlegend": true,
           "textposition": "auto",
           "texttemplate": "%{x}",
           "type": "bar",
           "x": [
            35226
           ],
           "xaxis": "x",
           "y": [
            "Loja 6"
           ],
           "yaxis": "y"
          }
         ],
         "name": "2021-11"
        },
        {
         "data": [
          {
           "alignmentgroup": "True",
           "hovertemplate": "loja=%{y}<br>ano_mes=2021-12<br>acumulado=%{x}<extra></extra>",
           "legendgroup": "Loja 1",
           "marker": {
            "color": "#636efa",
            "pattern": {
             "shape": ""
            }
           },
           "name": "Loja 1",
           "offsetgroup": "Loja 1",
           "orientation": "h",
           "showlegend": true,
           "textposition": "auto",
           "texttemplate": "%{x}",
           "type": "bar",
           "x": [
            51340
           ],
           "xaxis": "x",
           "y": [
            "Loja 1"
           ],
           "yaxis": "y"
          },
          {
           "alignmentgroup": "True",
           "hovertemplate": "loja=%{y}<br>ano_mes=2021-12<br>acumulado=%{x}<extra></extra>",
           "legendgroup": "Loja 2",
           "marker": {
            "color": "#EF553B",
            "pattern": {
             "shape": ""
            }
           },
           "name": "Loja 2",
           "offsetgroup": "Loja 2",
           "orientation": "h",
           "showlegend": true,
           "textposition": "auto",
           "texttemplate": "%{x}",
           "type": "bar",
           "x": [
            34621
           ],
           "xaxis": "x",
           "y": [
            "Loja 2"
           ],
           "yaxis": "y"
          },
          {
           "alignmentgroup": "True",
           "hovertemplate": "loja=%{y}<br>ano_mes=2021-12<br>acumulado=%{x}<extra></extra>",
           "legendgroup": "Loja 3",
           "marker": {
            "color": "#00cc96",
            "pattern": {
             "shape": ""
            }
           },
           "name": "Loja 3",
           "offsetgroup": "Loja 3",
           "orientation": "h",
           "showlegend": true,
           "textposition": "auto",
           "texttemplate": "%{x}",
           "type": "bar",
           "x": [
            50071
           ],
           "xaxis": "x",
           "y": [
            "Loja 3"
           ],
           "yaxis": "y"
          },
          {
           "alignmentgroup": "True",
           "hovertemplate": "loja=%{y}<br>ano_mes=2021-12<br>acumulado=%{x}<extra></extra>",
           "legendgroup": "Loja 4",
           "marker": {
            "color": "#ab63fa",
            "pattern": {
             "shape": ""
            }
           },
           "name": "Loja 4",
           "offsetgroup": "Loja 4",
           "orientation": "h",
           "showlegend": true,
           "textposition": "auto",
           "texttemplate": "%{x}",
           "type": "bar",
           "x": [
            66139
           ],
           "xaxis": "x",
           "y": [
            "Loja 4"
           ],
           "yaxis": "y"
          },
          {
           "alignmentgroup": "True",
           "hovertemplate": "loja=%{y}<br>ano_mes=2021-12<br>acumulado=%{x}<extra></extra>",
           "legendgroup": "Loja 5",
           "marker": {
            "color": "#FFA15A",
            "pattern": {
             "shape": ""
            }
           },
           "name": "Loja 5",
           "offsetgroup": "Loja 5",
           "orientation": "h",
           "showlegend": true,
           "textposition": "auto",
           "texttemplate": "%{x}",
           "type": "bar",
           "x": [
            50857
           ],
           "xaxis": "x",
           "y": [
            "Loja 5"
           ],
           "yaxis": "y"
          },
          {
           "alignmentgroup": "True",
           "hovertemplate": "loja=%{y}<br>ano_mes=2021-12<br>acumulado=%{x}<extra></extra>",
           "legendgroup": "Loja 6",
           "marker": {
            "color": "#19d3f3",
            "pattern": {
             "shape": ""
            }
           },
           "name": "Loja 6",
           "offsetgroup": "Loja 6",
           "orientation": "h",
           "showlegend": true,
           "textposition": "auto",
           "texttemplate": "%{x}",
           "type": "bar",
           "x": [
            38258
           ],
           "xaxis": "x",
           "y": [
            "Loja 6"
           ],
           "yaxis": "y"
          }
         ],
         "name": "2021-12"
        },
        {
         "data": [
          {
           "alignmentgroup": "True",
           "hovertemplate": "loja=%{y}<br>ano_mes=2022-01<br>acumulado=%{x}<extra></extra>",
           "legendgroup": "Loja 1",
           "marker": {
            "color": "#636efa",
            "pattern": {
             "shape": ""
            }
           },
           "name": "Loja 1",
           "offsetgroup": "Loja 1",
           "orientation": "h",
           "showlegend": true,
           "textposition": "auto",
           "texttemplate": "%{x}",
           "type": "bar",
           "x": [
            55453
           ],
           "xaxis": "x",
           "y": [
            "Loja 1"
           ],
           "yaxis": "y"
          },
          {
           "alignmentgroup": "True",
           "hovertemplate": "loja=%{y}<br>ano_mes=2022-01<br>acumulado=%{x}<extra></extra>",
           "legendgroup": "Loja 2",
           "marker": {
            "color": "#EF553B",
            "pattern": {
             "shape": ""
            }
           },
           "name": "Loja 2",
           "offsetgroup": "Loja 2",
           "orientation": "h",
           "showlegend": true,
           "textposition": "auto",
           "texttemplate": "%{x}",
           "type": "bar",
           "x": [
            37399
           ],
           "xaxis": "x",
           "y": [
            "Loja 2"
           ],
           "yaxis": "y"
          },
          {
           "alignmentgroup": "True",
           "hovertemplate": "loja=%{y}<br>ano_mes=2022-01<br>acumulado=%{x}<extra></extra>",
           "legendgroup": "Loja 3",
           "marker": {
            "color": "#00cc96",
            "pattern": {
             "shape": ""
            }
           },
           "name": "Loja 3",
           "offsetgroup": "Loja 3",
           "orientation": "h",
           "showlegend": true,
           "textposition": "auto",
           "texttemplate": "%{x}",
           "type": "bar",
           "x": [
            54524
           ],
           "xaxis": "x",
           "y": [
            "Loja 3"
           ],
           "yaxis": "y"
          },
          {
           "alignmentgroup": "True",
           "hovertemplate": "loja=%{y}<br>ano_mes=2022-01<br>acumulado=%{x}<extra></extra>",
           "legendgroup": "Loja 4",
           "marker": {
            "color": "#ab63fa",
            "pattern": {
             "shape": ""
            }
           },
           "name": "Loja 4",
           "offsetgroup": "Loja 4",
           "orientation": "h",
           "showlegend": true,
           "textposition": "auto",
           "texttemplate": "%{x}",
           "type": "bar",
           "x": [
            73894
           ],
           "xaxis": "x",
           "y": [
            "Loja 4"
           ],
           "yaxis": "y"
          },
          {
           "alignmentgroup": "True",
           "hovertemplate": "loja=%{y}<br>ano_mes=2022-01<br>acumulado=%{x}<extra></extra>",
           "legendgroup": "Loja 5",
           "marker": {
            "color": "#FFA15A",
            "pattern": {
             "shape": ""
            }
           },
           "name": "Loja 5",
           "offsetgroup": "Loja 5",
           "orientation": "h",
           "showlegend": true,
           "textposition": "auto",
           "texttemplate": "%{x}",
           "type": "bar",
           "x": [
            55261
           ],
           "xaxis": "x",
           "y": [
            "Loja 5"
           ],
           "yaxis": "y"
          },
          {
           "alignmentgroup": "True",
           "hovertemplate": "loja=%{y}<br>ano_mes=2022-01<br>acumulado=%{x}<extra></extra>",
           "legendgroup": "Loja 6",
           "marker": {
            "color": "#19d3f3",
            "pattern": {
             "shape": ""
            }
           },
           "name": "Loja 6",
           "offsetgroup": "Loja 6",
           "orientation": "h",
           "showlegend": true,
           "textposition": "auto",
           "texttemplate": "%{x}",
           "type": "bar",
           "x": [
            39041
           ],
           "xaxis": "x",
           "y": [
            "Loja 6"
           ],
           "yaxis": "y"
          }
         ],
         "name": "2022-01"
        },
        {
         "data": [
          {
           "alignmentgroup": "True",
           "hovertemplate": "loja=%{y}<br>ano_mes=2022-02<br>acumulado=%{x}<extra></extra>",
           "legendgroup": "Loja 1",
           "marker": {
            "color": "#636efa",
            "pattern": {
             "shape": ""
            }
           },
           "name": "Loja 1",
           "offsetgroup": "Loja 1",
           "orientation": "h",
           "showlegend": true,
           "textposition": "auto",
           "texttemplate": "%{x}",
           "type": "bar",
           "x": [
            59526
           ],
           "xaxis": "x",
           "y": [
            "Loja 1"
           ],
           "yaxis": "y"
          },
          {
           "alignmentgroup": "True",
           "hovertemplate": "loja=%{y}<br>ano_mes=2022-02<br>acumulado=%{x}<extra></extra>",
           "legendgroup": "Loja 2",
           "marker": {
            "color": "#EF553B",
            "pattern": {
             "shape": ""
            }
           },
           "name": "Loja 2",
           "offsetgroup": "Loja 2",
           "orientation": "h",
           "showlegend": true,
           "textposition": "auto",
           "texttemplate": "%{x}",
           "type": "bar",
           "x": [
            39954
           ],
           "xaxis": "x",
           "y": [
            "Loja 2"
           ],
           "yaxis": "y"
          },
          {
           "alignmentgroup": "True",
           "hovertemplate": "loja=%{y}<br>ano_mes=2022-02<br>acumulado=%{x}<extra></extra>",
           "legendgroup": "Loja 3",
           "marker": {
            "color": "#00cc96",
            "pattern": {
             "shape": ""
            }
           },
           "name": "Loja 3",
           "offsetgroup": "Loja 3",
           "orientation": "h",
           "showlegend": true,
           "textposition": "auto",
           "texttemplate": "%{x}",
           "type": "bar",
           "x": [
            58346
           ],
           "xaxis": "x",
           "y": [
            "Loja 3"
           ],
           "yaxis": "y"
          },
          {
           "alignmentgroup": "True",
           "hovertemplate": "loja=%{y}<br>ano_mes=2022-02<br>acumulado=%{x}<extra></extra>",
           "legendgroup": "Loja 4",
           "marker": {
            "color": "#ab63fa",
            "pattern": {
             "shape": ""
            }
           },
           "name": "Loja 4",
           "offsetgroup": "Loja 4",
           "orientation": "h",
           "showlegend": true,
           "textposition": "auto",
           "texttemplate": "%{x}",
           "type": "bar",
           "x": [
            77636
           ],
           "xaxis": "x",
           "y": [
            "Loja 4"
           ],
           "yaxis": "y"
          },
          {
           "alignmentgroup": "True",
           "hovertemplate": "loja=%{y}<br>ano_mes=2022-02<br>acumulado=%{x}<extra></extra>",
           "legendgroup": "Loja 5",
           "marker": {
            "color": "#FFA15A",
            "pattern": {
             "shape": ""
            }
           },
           "name": "Loja 5",
           "offsetgroup": "Loja 5",
           "orientation": "h",
           "showlegend": true,
           "textposition": "auto",
           "texttemplate": "%{x}",
           "type": "bar",
           "x": [
            59090
           ],
           "xaxis": "x",
           "y": [
            "Loja 5"
           ],
           "yaxis": "y"
          },
          {
           "alignmentgroup": "True",
           "hovertemplate": "loja=%{y}<br>ano_mes=2022-02<br>acumulado=%{x}<extra></extra>",
           "legendgroup": "Loja 6",
           "marker": {
            "color": "#19d3f3",
            "pattern": {
             "shape": ""
            }
           },
           "name": "Loja 6",
           "offsetgroup": "Loja 6",
           "orientation": "h",
           "showlegend": true,
           "textposition": "auto",
           "texttemplate": "%{x}",
           "type": "bar",
           "x": [
            43274
           ],
           "xaxis": "x",
           "y": [
            "Loja 6"
           ],
           "yaxis": "y"
          }
         ],
         "name": "2022-02"
        },
        {
         "data": [
          {
           "alignmentgroup": "True",
           "hovertemplate": "loja=%{y}<br>ano_mes=2022-03<br>acumulado=%{x}<extra></extra>",
           "legendgroup": "Loja 1",
           "marker": {
            "color": "#636efa",
            "pattern": {
             "shape": ""
            }
           },
           "name": "Loja 1",
           "offsetgroup": "Loja 1",
           "orientation": "h",
           "showlegend": true,
           "textposition": "auto",
           "texttemplate": "%{x}",
           "type": "bar",
           "x": [
            64157
           ],
           "xaxis": "x",
           "y": [
            "Loja 1"
           ],
           "yaxis": "y"
          },
          {
           "alignmentgroup": "True",
           "hovertemplate": "loja=%{y}<br>ano_mes=2022-03<br>acumulado=%{x}<extra></extra>",
           "legendgroup": "Loja 2",
           "marker": {
            "color": "#EF553B",
            "pattern": {
             "shape": ""
            }
           },
           "name": "Loja 2",
           "offsetgroup": "Loja 2",
           "orientation": "h",
           "showlegend": true,
           "textposition": "auto",
           "texttemplate": "%{x}",
           "type": "bar",
           "x": [
            42968
           ],
           "xaxis": "x",
           "y": [
            "Loja 2"
           ],
           "yaxis": "y"
          },
          {
           "alignmentgroup": "True",
           "hovertemplate": "loja=%{y}<br>ano_mes=2022-03<br>acumulado=%{x}<extra></extra>",
           "legendgroup": "Loja 3",
           "marker": {
            "color": "#00cc96",
            "pattern": {
             "shape": ""
            }
           },
           "name": "Loja 3",
           "offsetgroup": "Loja 3",
           "orientation": "h",
           "showlegend": true,
           "textposition": "auto",
           "texttemplate": "%{x}",
           "type": "bar",
           "x": [
            62928
           ],
           "xaxis": "x",
           "y": [
            "Loja 3"
           ],
           "yaxis": "y"
          },
          {
           "alignmentgroup": "True",
           "hovertemplate": "loja=%{y}<br>ano_mes=2022-03<br>acumulado=%{x}<extra></extra>",
           "legendgroup": "Loja 4",
           "marker": {
            "color": "#ab63fa",
            "pattern": {
             "shape": ""
            }
           },
           "name": "Loja 4",
           "offsetgroup": "Loja 4",
           "orientation": "h",
           "showlegend": true,
           "textposition": "auto",
           "texttemplate": "%{x}",
           "type": "bar",
           "x": [
            82448
           ],
           "xaxis": "x",
           "y": [
            "Loja 4"
           ],
           "yaxis": "y"
          },
          {
           "alignmentgroup": "True",
           "hovertemplate": "loja=%{y}<br>ano_mes=2022-03<br>acumulado=%{x}<extra></extra>",
           "legendgroup": "Loja 5",
           "marker": {
            "color": "#FFA15A",
            "pattern": {
             "shape": ""
            }
           },
           "name": "Loja 5",
           "offsetgroup": "Loja 5",
           "orientation": "h",
           "showlegend": true,
           "textposition": "auto",
           "texttemplate": "%{x}",
           "type": "bar",
           "x": [
            63924
           ],
           "xaxis": "x",
           "y": [
            "Loja 5"
           ],
           "yaxis": "y"
          },
          {
           "alignmentgroup": "True",
           "hovertemplate": "loja=%{y}<br>ano_mes=2022-03<br>acumulado=%{x}<extra></extra>",
           "legendgroup": "Loja 6",
           "marker": {
            "color": "#19d3f3",
            "pattern": {
             "shape": ""
            }
           },
           "name": "Loja 6",
           "offsetgroup": "Loja 6",
           "orientation": "h",
           "showlegend": true,
           "textposition": "auto",
           "texttemplate": "%{x}",
           "type": "bar",
           "x": [
            47517
           ],
           "xaxis": "x",
           "y": [
            "Loja 6"
           ],
           "yaxis": "y"
          }
         ],
         "name": "2022-03"
        },
        {
         "data": [
          {
           "alignmentgroup": "True",
           "hovertemplate": "loja=%{y}<br>ano_mes=2022-04<br>acumulado=%{x}<extra></extra>",
           "legendgroup": "Loja 1",
           "marker": {
            "color": "#636efa",
            "pattern": {
             "shape": ""
            }
           },
           "name": "Loja 1",
           "offsetgroup": "Loja 1",
           "orientation": "h",
           "showlegend": true,
           "textposition": "auto",
           "texttemplate": "%{x}",
           "type": "bar",
           "x": [
            68481
           ],
           "xaxis": "x",
           "y": [
            "Loja 1"
           ],
           "yaxis": "y"
          },
          {
           "alignmentgroup": "True",
           "hovertemplate": "loja=%{y}<br>ano_mes=2022-04<br>acumulado=%{x}<extra></extra>",
           "legendgroup": "Loja 2",
           "marker": {
            "color": "#EF553B",
            "pattern": {
             "shape": ""
            }
           },
           "name": "Loja 2",
           "offsetgroup": "Loja 2",
           "orientation": "h",
           "showlegend": true,
           "textposition": "auto",
           "texttemplate": "%{x}",
           "type": "bar",
           "x": [
            45932
           ],
           "xaxis": "x",
           "y": [
            "Loja 2"
           ],
           "yaxis": "y"
          },
          {
           "alignmentgroup": "True",
           "hovertemplate": "loja=%{y}<br>ano_mes=2022-04<br>acumulado=%{x}<extra></extra>",
           "legendgroup": "Loja 3",
           "marker": {
            "color": "#00cc96",
            "pattern": {
             "shape": ""
            }
           },
           "name": "Loja 3",
           "offsetgroup": "Loja 3",
           "orientation": "h",
           "showlegend": true,
           "textposition": "auto",
           "texttemplate": "%{x}",
           "type": "bar",
           "x": [
            66844
           ],
           "xaxis": "x",
           "y": [
            "Loja 3"
           ],
           "yaxis": "y"
          },
          {
           "alignmentgroup": "True",
           "hovertemplate": "loja=%{y}<br>ano_mes=2022-04<br>acumulado=%{x}<extra></extra>",
           "legendgroup": "Loja 4",
           "marker": {
            "color": "#ab63fa",
            "pattern": {
             "shape": ""
            }
           },
           "name": "Loja 4",
           "offsetgroup": "Loja 4",
           "orientation": "h",
           "showlegend": true,
           "textposition": "auto",
           "texttemplate": "%{x}",
           "type": "bar",
           "x": [
            87000
           ],
           "xaxis": "x",
           "y": [
            "Loja 4"
           ],
           "yaxis": "y"
          },
          {
           "alignmentgroup": "True",
           "hovertemplate": "loja=%{y}<br>ano_mes=2022-04<br>acumulado=%{x}<extra></extra>",
           "legendgroup": "Loja 5",
           "marker": {
            "color": "#FFA15A",
            "pattern": {
             "shape": ""
            }
           },
           "name": "Loja 5",
           "offsetgroup": "Loja 5",
           "orientation": "h",
           "showlegend": true,
           "textposition": "auto",
           "texttemplate": "%{x}",
           "type": "bar",
           "x": [
            67679
           ],
           "xaxis": "x",
           "y": [
            "Loja 5"
           ],
           "yaxis": "y"
          },
          {
           "alignmentgroup": "True",
           "hovertemplate": "loja=%{y}<br>ano_mes=2022-04<br>acumulado=%{x}<extra></extra>",
           "legendgroup": "Loja 6",
           "marker": {
            "color": "#19d3f3",
            "pattern": {
             "shape": ""
            }
           },
           "name": "Loja 6",
           "offsetgroup": "Loja 6",
           "orientation": "h",
           "showlegend": true,
           "textposition": "auto",
           "texttemplate": "%{x}",
           "type": "bar",
           "x": [
            51403
           ],
           "xaxis": "x",
           "y": [
            "Loja 6"
           ],
           "yaxis": "y"
          }
         ],
         "name": "2022-04"
        },
        {
         "data": [
          {
           "alignmentgroup": "True",
           "hovertemplate": "loja=%{y}<br>ano_mes=2022-05<br>acumulado=%{x}<extra></extra>",
           "legendgroup": "Loja 1",
           "marker": {
            "color": "#636efa",
            "pattern": {
             "shape": ""
            }
           },
           "name": "Loja 1",
           "offsetgroup": "Loja 1",
           "orientation": "h",
           "showlegend": true,
           "textposition": "auto",
           "texttemplate": "%{x}",
           "type": "bar",
           "x": [
            72999
           ],
           "xaxis": "x",
           "y": [
            "Loja 1"
           ],
           "yaxis": "y"
          },
          {
           "alignmentgroup": "True",
           "hovertemplate": "loja=%{y}<br>ano_mes=2022-05<br>acumulado=%{x}<extra></extra>",
           "legendgroup": "Loja 2",
           "marker": {
            "color": "#EF553B",
            "pattern": {
             "shape": ""
            }
           },
           "name": "Loja 2",
           "offsetgroup": "Loja 2",
           "orientation": "h",
           "showlegend": true,
           "textposition": "auto",
           "texttemplate": "%{x}",
           "type": "bar",
           "x": [
            48981
           ],
           "xaxis": "x",
           "y": [
            "Loja 2"
           ],
           "yaxis": "y"
          },
          {
           "alignmentgroup": "True",
           "hovertemplate": "loja=%{y}<br>ano_mes=2022-05<br>acumulado=%{x}<extra></extra>",
           "legendgroup": "Loja 3",
           "marker": {
            "color": "#00cc96",
            "pattern": {
             "shape": ""
            }
           },
           "name": "Loja 3",
           "offsetgroup": "Loja 3",
           "orientation": "h",
           "showlegend": true,
           "textposition": "auto",
           "texttemplate": "%{x}",
           "type": "bar",
           "x": [
            71304
           ],
           "xaxis": "x",
           "y": [
            "Loja 3"
           ],
           "yaxis": "y"
          },
          {
           "alignmentgroup": "True",
           "hovertemplate": "loja=%{y}<br>ano_mes=2022-05<br>acumulado=%{x}<extra></extra>",
           "legendgroup": "Loja 4",
           "marker": {
            "color": "#ab63fa",
            "pattern": {
             "shape": ""
            }
           },
           "name": "Loja 4",
           "offsetgroup": "Loja 4",
           "orientation": "h",
           "showlegend": true,
           "textposition": "auto",
           "texttemplate": "%{x}",
           "type": "bar",
           "x": [
            92755
           ],
           "xaxis": "x",
           "y": [
            "Loja 4"
           ],
           "yaxis": "y"
          },
          {
           "alignmentgroup": "True",
           "hovertemplate": "loja=%{y}<br>ano_mes=2022-05<br>acumulado=%{x}<extra></extra>",
           "legendgroup": "Loja 5",
           "marker": {
            "color": "#FFA15A",
            "pattern": {
             "shape": ""
            }
           },
           "name": "Loja 5",
           "offsetgroup": "Loja 5",
           "orientation": "h",
           "showlegend": true,
           "textposition": "auto",
           "texttemplate": "%{x}",
           "type": "bar",
           "x": [
            72200
           ],
           "xaxis": "x",
           "y": [
            "Loja 5"
           ],
           "yaxis": "y"
          },
          {
           "alignmentgroup": "True",
           "hovertemplate": "loja=%{y}<br>ano_mes=2022-05<br>acumulado=%{x}<extra></extra>",
           "legendgroup": "Loja 6",
           "marker": {
            "color": "#19d3f3",
            "pattern": {
             "shape": ""
            }
           },
           "name": "Loja 6",
           "offsetgroup": "Loja 6",
           "orientation": "h",
           "showlegend": true,
           "textposition": "auto",
           "texttemplate": "%{x}",
           "type": "bar",
           "x": [
            54545
           ],
           "xaxis": "x",
           "y": [
            "Loja 6"
           ],
           "yaxis": "y"
          }
         ],
         "name": "2022-05"
        },
        {
         "data": [
          {
           "alignmentgroup": "True",
           "hovertemplate": "loja=%{y}<br>ano_mes=2022-06<br>acumulado=%{x}<extra></extra>",
           "legendgroup": "Loja 1",
           "marker": {
            "color": "#636efa",
            "pattern": {
             "shape": ""
            }
           },
           "name": "Loja 1",
           "offsetgroup": "Loja 1",
           "orientation": "h",
           "showlegend": true,
           "textposition": "auto",
           "texttemplate": "%{x}",
           "type": "bar",
           "x": [
            77511
           ],
           "xaxis": "x",
           "y": [
            "Loja 1"
           ],
           "yaxis": "y"
          },
          {
           "alignmentgroup": "True",
           "hovertemplate": "loja=%{y}<br>ano_mes=2022-06<br>acumulado=%{x}<extra></extra>",
           "legendgroup": "Loja 2",
           "marker": {
            "color": "#EF553B",
            "pattern": {
             "shape": ""
            }
           },
           "name": "Loja 2",
           "offsetgroup": "Loja 2",
           "orientation": "h",
           "showlegend": true,
           "textposition": "auto",
           "texttemplate": "%{x}",
           "type": "bar",
           "x": [
            51825
           ],
           "xaxis": "x",
           "y": [
            "Loja 2"
           ],
           "yaxis": "y"
          },
          {
           "alignmentgroup": "True",
           "hovertemplate": "loja=%{y}<br>ano_mes=2022-06<br>acumulado=%{x}<extra></extra>",
           "legendgroup": "Loja 3",
           "marker": {
            "color": "#00cc96",
            "pattern": {
             "shape": ""
            }
           },
           "name": "Loja 3",
           "offsetgroup": "Loja 3",
           "orientation": "h",
           "showlegend": true,
           "textposition": "auto",
           "texttemplate": "%{x}",
           "type": "bar",
           "x": [
            74925
           ],
           "xaxis": "x",
           "y": [
            "Loja 3"
           ],
           "yaxis": "y"
          },
          {
           "alignmentgroup": "True",
           "hovertemplate": "loja=%{y}<br>ano_mes=2022-06<br>acumulado=%{x}<extra></extra>",
           "legendgroup": "Loja 4",
           "marker": {
            "color": "#ab63fa",
            "pattern": {
             "shape": ""
            }
           },
           "name": "Loja 4",
           "offsetgroup": "Loja 4",
           "orientation": "h",
           "showlegend": true,
           "textposition": "auto",
           "texttemplate": "%{x}",
           "type": "bar",
           "x": [
            95444
           ],
           "xaxis": "x",
           "y": [
            "Loja 4"
           ],
           "yaxis": "y"
          },
          {
           "alignmentgroup": "True",
           "hovertemplate": "loja=%{y}<br>ano_mes=2022-06<br>acumulado=%{x}<extra></extra>",
           "legendgroup": "Loja 5",
           "marker": {
            "color": "#FFA15A",
            "pattern": {
             "shape": ""
            }
           },
           "name": "Loja 5",
           "offsetgroup": "Loja 5",
           "orientation": "h",
           "showlegend": true,
           "textposition": "auto",
           "texttemplate": "%{x}",
           "type": "bar",
           "x": [
            76568
           ],
           "xaxis": "x",
           "y": [
            "Loja 5"
           ],
           "yaxis": "y"
          },
          {
           "alignmentgroup": "True",
           "hovertemplate": "loja=%{y}<br>ano_mes=2022-06<br>acumulado=%{x}<extra></extra>",
           "legendgroup": "Loja 6",
           "marker": {
            "color": "#19d3f3",
            "pattern": {
             "shape": ""
            }
           },
           "name": "Loja 6",
           "offsetgroup": "Loja 6",
           "orientation": "h",
           "showlegend": true,
           "textposition": "auto",
           "texttemplate": "%{x}",
           "type": "bar",
           "x": [
            60602
           ],
           "xaxis": "x",
           "y": [
            "Loja 6"
           ],
           "yaxis": "y"
          }
         ],
         "name": "2022-06"
        },
        {
         "data": [
          {
           "alignmentgroup": "True",
           "hovertemplate": "loja=%{y}<br>ano_mes=2022-07<br>acumulado=%{x}<extra></extra>",
           "legendgroup": "Loja 1",
           "marker": {
            "color": "#636efa",
            "pattern": {
             "shape": ""
            }
           },
           "name": "Loja 1",
           "offsetgroup": "Loja 1",
           "orientation": "h",
           "showlegend": true,
           "textposition": "auto",
           "texttemplate": "%{x}",
           "type": "bar",
           "x": [
            81579
           ],
           "xaxis": "x",
           "y": [
            "Loja 1"
           ],
           "yaxis": "y"
          },
          {
           "alignmentgroup": "True",
           "hovertemplate": "loja=%{y}<br>ano_mes=2022-07<br>acumulado=%{x}<extra></extra>",
           "legendgroup": "Loja 2",
           "marker": {
            "color": "#EF553B",
            "pattern": {
             "shape": ""
            }
           },
           "name": "Loja 2",
           "offsetgroup": "Loja 2",
           "orientation": "h",
           "showlegend": true,
           "textposition": "auto",
           "texttemplate": "%{x}",
           "type": "bar",
           "x": [
            55103
           ],
           "xaxis": "x",
           "y": [
            "Loja 2"
           ],
           "yaxis": "y"
          },
          {
           "alignmentgroup": "True",
           "hovertemplate": "loja=%{y}<br>ano_mes=2022-07<br>acumulado=%{x}<extra></extra>",
           "legendgroup": "Loja 3",
           "marker": {
            "color": "#00cc96",
            "pattern": {
             "shape": ""
            }
           },
           "name": "Loja 3",
           "offsetgroup": "Loja 3",
           "orientation": "h",
           "showlegend": true,
           "textposition": "auto",
           "texttemplate": "%{x}",
           "type": "bar",
           "x": [
            77650
           ],
           "xaxis": "x",
           "y": [
            "Loja 3"
           ],
           "yaxis": "y"
          },
          {
           "alignmentgroup": "True",
           "hovertemplate": "loja=%{y}<br>ano_mes=2022-07<br>acumulado=%{x}<extra></extra>",
           "legendgroup": "Loja 4",
           "marker": {
            "color": "#ab63fa",
            "pattern": {
             "shape": ""
            }
           },
           "name": "Loja 4",
           "offsetgroup": "Loja 4",
           "orientation": "h",
           "showlegend": true,
           "textposition": "auto",
           "texttemplate": "%{x}",
           "type": "bar",
           "x": [
            98264
           ],
           "xaxis": "x",
           "y": [
            "Loja 4"
           ],
           "yaxis": "y"
          },
          {
           "alignmentgroup": "True",
           "hovertemplate": "loja=%{y}<br>ano_mes=2022-07<br>acumulado=%{x}<extra></extra>",
           "legendgroup": "Loja 5",
           "marker": {
            "color": "#FFA15A",
            "pattern": {
             "shape": ""
            }
           },
           "name": "Loja 5",
           "offsetgroup": "Loja 5",
           "orientation": "h",
           "showlegend": true,
           "textposition": "auto",
           "texttemplate": "%{x}",
           "type": "bar",
           "x": [
            80931
           ],
           "xaxis": "x",
           "y": [
            "Loja 5"
           ],
           "yaxis": "y"
          },
          {
           "alignmentgroup": "True",
           "hovertemplate": "loja=%{y}<br>ano_mes=2022-07<br>acumulado=%{x}<extra></extra>",
           "legendgroup": "Loja 6",
           "marker": {
            "color": "#19d3f3",
            "pattern": {
             "shape": ""
            }
           },
           "name": "Loja 6",
           "offsetgroup": "Loja 6",
           "orientation": "h",
           "showlegend": true,
           "textposition": "auto",
           "texttemplate": "%{x}",
           "type": "bar",
           "x": [
            69240
           ],
           "xaxis": "x",
           "y": [
            "Loja 6"
           ],
           "yaxis": "y"
          }
         ],
         "name": "2022-07"
        },
        {
         "data": [
          {
           "alignmentgroup": "True",
           "hovertemplate": "loja=%{y}<br>ano_mes=2022-08<br>acumulado=%{x}<extra></extra>",
           "legendgroup": "Loja 1",
           "marker": {
            "color": "#636efa",
            "pattern": {
             "shape": ""
            }
           },
           "name": "Loja 1",
           "offsetgroup": "Loja 1",
           "orientation": "h",
           "showlegend": true,
           "textposition": "auto",
           "texttemplate": "%{x}",
           "type": "bar",
           "x": [
            86138
           ],
           "xaxis": "x",
           "y": [
            "Loja 1"
           ],
           "yaxis": "y"
          },
          {
           "alignmentgroup": "True",
           "hovertemplate": "loja=%{y}<br>ano_mes=2022-08<br>acumulado=%{x}<extra></extra>",
           "legendgroup": "Loja 2",
           "marker": {
            "color": "#EF553B",
            "pattern": {
             "shape": ""
            }
           },
           "name": "Loja 2",
           "offsetgroup": "Loja 2",
           "orientation": "h",
           "showlegend": true,
           "textposition": "auto",
           "texttemplate": "%{x}",
           "type": "bar",
           "x": [
            57833
           ],
           "xaxis": "x",
           "y": [
            "Loja 2"
           ],
           "yaxis": "y"
          },
          {
           "alignmentgroup": "True",
           "hovertemplate": "loja=%{y}<br>ano_mes=2022-08<br>acumulado=%{x}<extra></extra>",
           "legendgroup": "Loja 3",
           "marker": {
            "color": "#00cc96",
            "pattern": {
             "shape": ""
            }
           },
           "name": "Loja 3",
           "offsetgroup": "Loja 3",
           "orientation": "h",
           "showlegend": true,
           "textposition": "auto",
           "texttemplate": "%{x}",
           "type": "bar",
           "x": [
            79685
           ],
           "xaxis": "x",
           "y": [
            "Loja 3"
           ],
           "yaxis": "y"
          },
          {
           "alignmentgroup": "True",
           "hovertemplate": "loja=%{y}<br>ano_mes=2022-08<br>acumulado=%{x}<extra></extra>",
           "legendgroup": "Loja 4",
           "marker": {
            "color": "#ab63fa",
            "pattern": {
             "shape": ""
            }
           },
           "name": "Loja 4",
           "offsetgroup": "Loja 4",
           "orientation": "h",
           "showlegend": true,
           "textposition": "auto",
           "texttemplate": "%{x}",
           "type": "bar",
           "x": [
            100834
           ],
           "xaxis": "x",
           "y": [
            "Loja 4"
           ],
           "yaxis": "y"
          },
          {
           "alignmentgroup": "True",
           "hovertemplate": "loja=%{y}<br>ano_mes=2022-08<br>acumulado=%{x}<extra></extra>",
           "legendgroup": "Loja 5",
           "marker": {
            "color": "#FFA15A",
            "pattern": {
             "shape": ""
            }
           },
           "name": "Loja 5",
           "offsetgroup": "Loja 5",
           "orientation": "h",
           "showlegend": true,
           "textposition": "auto",
           "texttemplate": "%{x}",
           "type": "bar",
           "x": [
            85049
           ],
           "xaxis": "x",
           "y": [
            "Loja 5"
           ],
           "yaxis": "y"
          },
          {
           "alignmentgroup": "True",
           "hovertemplate": "loja=%{y}<br>ano_mes=2022-08<br>acumulado=%{x}<extra></extra>",
           "legendgroup": "Loja 6",
           "marker": {
            "color": "#19d3f3",
            "pattern": {
             "shape": ""
            }
           },
           "name": "Loja 6",
           "offsetgroup": "Loja 6",
           "orientation": "h",
           "showlegend": true,
           "textposition": "auto",
           "texttemplate": "%{x}",
           "type": "bar",
           "x": [
            77097
           ],
           "xaxis": "x",
           "y": [
            "Loja 6"
           ],
           "yaxis": "y"
          }
         ],
         "name": "2022-08"
        },
        {
         "data": [
          {
           "alignmentgroup": "True",
           "hovertemplate": "loja=%{y}<br>ano_mes=2022-09<br>acumulado=%{x}<extra></extra>",
           "legendgroup": "Loja 1",
           "marker": {
            "color": "#636efa",
            "pattern": {
             "shape": ""
            }
           },
           "name": "Loja 1",
           "offsetgroup": "Loja 1",
           "orientation": "h",
           "showlegend": true,
           "textposition": "auto",
           "texttemplate": "%{x}",
           "type": "bar",
           "x": [
            90224
           ],
           "xaxis": "x",
           "y": [
            "Loja 1"
           ],
           "yaxis": "y"
          },
          {
           "alignmentgroup": "True",
           "hovertemplate": "loja=%{y}<br>ano_mes=2022-09<br>acumulado=%{x}<extra></extra>",
           "legendgroup": "Loja 2",
           "marker": {
            "color": "#EF553B",
            "pattern": {
             "shape": ""
            }
           },
           "name": "Loja 2",
           "offsetgroup": "Loja 2",
           "orientation": "h",
           "showlegend": true,
           "textposition": "auto",
           "texttemplate": "%{x}",
           "type": "bar",
           "x": [
            60675
           ],
           "xaxis": "x",
           "y": [
            "Loja 2"
           ],
           "yaxis": "y"
          },
          {
           "alignmentgroup": "True",
           "hovertemplate": "loja=%{y}<br>ano_mes=2022-09<br>acumulado=%{x}<extra></extra>",
           "legendgroup": "Loja 3",
           "marker": {
            "color": "#00cc96",
            "pattern": {
             "shape": ""
            }
           },
           "name": "Loja 3",
           "offsetgroup": "Loja 3",
           "orientation": "h",
           "showlegend": true,
           "textposition": "auto",
           "texttemplate": "%{x}",
           "type": "bar",
           "x": [
            81696
           ],
           "xaxis": "x",
           "y": [
            "Loja 3"
           ],
           "yaxis": "y"
          },
          {
           "alignmentgroup": "True",
           "hovertemplate": "loja=%{y}<br>ano_mes=2022-09<br>acumulado=%{x}<extra></extra>",
           "legendgroup": "Loja 4",
           "marker": {
            "color": "#ab63fa",
            "pattern": {
             "shape": ""
            }
           },
           "name": "Loja 4",
           "offsetgroup": "Loja 4",
           "orientation": "h",
           "showlegend": true,
           "textposition": "auto",
           "texttemplate": "%{x}",
           "type": "bar",
           "x": [
            103612
           ],
           "xaxis": "x",
           "y": [
            "Loja 4"
           ],
           "yaxis": "y"
          },
          {
           "alignmentgroup": "True",
           "hovertemplate": "loja=%{y}<br>ano_mes=2022-09<br>acumulado=%{x}<extra></extra>",
           "legendgroup": "Loja 5",
           "marker": {
            "color": "#FFA15A",
            "pattern": {
             "shape": ""
            }
           },
           "name": "Loja 5",
           "offsetgroup": "Loja 5",
           "orientation": "h",
           "showlegend": true,
           "textposition": "auto",
           "texttemplate": "%{x}",
           "type": "bar",
           "x": [
            89080
           ],
           "xaxis": "x",
           "y": [
            "Loja 5"
           ],
           "yaxis": "y"
          },
          {
           "alignmentgroup": "True",
           "hovertemplate": "loja=%{y}<br>ano_mes=2022-09<br>acumulado=%{x}<extra></extra>",
           "legendgroup": "Loja 6",
           "marker": {
            "color": "#19d3f3",
            "pattern": {
             "shape": ""
            }
           },
           "name": "Loja 6",
           "offsetgroup": "Loja 6",
           "orientation": "h",
           "showlegend": true,
           "textposition": "auto",
           "texttemplate": "%{x}",
           "type": "bar",
           "x": [
            85144
           ],
           "xaxis": "x",
           "y": [
            "Loja 6"
           ],
           "yaxis": "y"
          }
         ],
         "name": "2022-09"
        },
        {
         "data": [
          {
           "alignmentgroup": "True",
           "hovertemplate": "loja=%{y}<br>ano_mes=2022-10<br>acumulado=%{x}<extra></extra>",
           "legendgroup": "Loja 1",
           "marker": {
            "color": "#636efa",
            "pattern": {
             "shape": ""
            }
           },
           "name": "Loja 1",
           "offsetgroup": "Loja 1",
           "orientation": "h",
           "showlegend": true,
           "textposition": "auto",
           "texttemplate": "%{x}",
           "type": "bar",
           "x": [
            94918
           ],
           "xaxis": "x",
           "y": [
            "Loja 1"
           ],
           "yaxis": "y"
          },
          {
           "alignmentgroup": "True",
           "hovertemplate": "loja=%{y}<br>ano_mes=2022-10<br>acumulado=%{x}<extra></extra>",
           "legendgroup": "Loja 2",
           "marker": {
            "color": "#EF553B",
            "pattern": {
             "shape": ""
            }
           },
           "name": "Loja 2",
           "offsetgroup": "Loja 2",
           "orientation": "h",
           "showlegend": true,
           "textposition": "auto",
           "texttemplate": "%{x}",
           "type": "bar",
           "x": [
            63700
           ],
           "xaxis": "x",
           "y": [
            "Loja 2"
           ],
           "yaxis": "y"
          },
          {
           "alignmentgroup": "True",
           "hovertemplate": "loja=%{y}<br>ano_mes=2022-10<br>acumulado=%{x}<extra></extra>",
           "legendgroup": "Loja 3",
           "marker": {
            "color": "#00cc96",
            "pattern": {
             "shape": ""
            }
           },
           "name": "Loja 3",
           "offsetgroup": "Loja 3",
           "orientation": "h",
           "showlegend": true,
           "textposition": "auto",
           "texttemplate": "%{x}",
           "type": "bar",
           "x": [
            83533
           ],
           "xaxis": "x",
           "y": [
            "Loja 3"
           ],
           "yaxis": "y"
          },
          {
           "alignmentgroup": "True",
           "hovertemplate": "loja=%{y}<br>ano_mes=2022-10<br>acumulado=%{x}<extra></extra>",
           "legendgroup": "Loja 4",
           "marker": {
            "color": "#ab63fa",
            "pattern": {
             "shape": ""
            }
           },
           "name": "Loja 4",
           "offsetgroup": "Loja 4",
           "orientation": "h",
           "showlegend": true,
           "textposition": "auto",
           "texttemplate": "%{x}",
           "type": "bar",
           "x": [
            106464
           ],
           "xaxis": "x",
           "y": [
            "Loja 4"
           ],
           "yaxis": "y"
          },
          {
           "alignmentgroup": "True",
           "hovertemplate": "loja=%{y}<br>ano_mes=2022-10<br>acumulado=%{x}<extra></extra>",
           "legendgroup": "Loja 5",
           "marker": {
            "color": "#FFA15A",
            "pattern": {
             "shape": ""
            }
           },
           "name": "Loja 5",
           "offsetgroup": "Loja 5",
           "orientation": "h",
           "showlegend": true,
           "textposition": "auto",
           "texttemplate": "%{x}",
           "type": "bar",
           "x": [
            93425
           ],
           "xaxis": "x",
           "y": [
            "Loja 5"
           ],
           "yaxis": "y"
          },
          {
           "alignmentgroup": "True",
           "hovertemplate": "loja=%{y}<br>ano_mes=2022-10<br>acumulado=%{x}<extra></extra>",
           "legendgroup": "Loja 6",
           "marker": {
            "color": "#19d3f3",
            "pattern": {
             "shape": ""
            }
           },
           "name": "Loja 6",
           "offsetgroup": "Loja 6",
           "orientation": "h",
           "showlegend": true,
           "textposition": "auto",
           "texttemplate": "%{x}",
           "type": "bar",
           "x": [
            93696
           ],
           "xaxis": "x",
           "y": [
            "Loja 6"
           ],
           "yaxis": "y"
          }
         ],
         "name": "2022-10"
        },
        {
         "data": [
          {
           "alignmentgroup": "True",
           "hovertemplate": "loja=%{y}<br>ano_mes=2022-11<br>acumulado=%{x}<extra></extra>",
           "legendgroup": "Loja 1",
           "marker": {
            "color": "#636efa",
            "pattern": {
             "shape": ""
            }
           },
           "name": "Loja 1",
           "offsetgroup": "Loja 1",
           "orientation": "h",
           "showlegend": true,
           "textposition": "auto",
           "texttemplate": "%{x}",
           "type": "bar",
           "x": [
            98707
           ],
           "xaxis": "x",
           "y": [
            "Loja 1"
           ],
           "yaxis": "y"
          },
          {
           "alignmentgroup": "True",
           "hovertemplate": "loja=%{y}<br>ano_mes=2022-11<br>acumulado=%{x}<extra></extra>",
           "legendgroup": "Loja 2",
           "marker": {
            "color": "#EF553B",
            "pattern": {
             "shape": ""
            }
           },
           "name": "Loja 2",
           "offsetgroup": "Loja 2",
           "orientation": "h",
           "showlegend": true,
           "textposition": "auto",
           "texttemplate": "%{x}",
           "type": "bar",
           "x": [
            66623
           ],
           "xaxis": "x",
           "y": [
            "Loja 2"
           ],
           "yaxis": "y"
          },
          {
           "alignmentgroup": "True",
           "hovertemplate": "loja=%{y}<br>ano_mes=2022-11<br>acumulado=%{x}<extra></extra>",
           "legendgroup": "Loja 3",
           "marker": {
            "color": "#00cc96",
            "pattern": {
             "shape": ""
            }
           },
           "name": "Loja 3",
           "offsetgroup": "Loja 3",
           "orientation": "h",
           "showlegend": true,
           "textposition": "auto",
           "texttemplate": "%{x}",
           "type": "bar",
           "x": [
            86092
           ],
           "xaxis": "x",
           "y": [
            "Loja 3"
           ],
           "yaxis": "y"
          },
          {
           "alignmentgroup": "True",
           "hovertemplate": "loja=%{y}<br>ano_mes=2022-11<br>acumulado=%{x}<extra></extra>",
           "legendgroup": "Loja 4",
           "marker": {
            "color": "#ab63fa",
            "pattern": {
             "shape": ""
            }
           },
           "name": "Loja 4",
           "offsetgroup": "Loja 4",
           "orientation": "h",
           "showlegend": true,
           "textposition": "auto",
           "texttemplate": "%{x}",
           "type": "bar",
           "x": [
            109411
           ],
           "xaxis": "x",
           "y": [
            "Loja 4"
           ],
           "yaxis": "y"
          },
          {
           "alignmentgroup": "True",
           "hovertemplate": "loja=%{y}<br>ano_mes=2022-11<br>acumulado=%{x}<extra></extra>",
           "legendgroup": "Loja 5",
           "marker": {
            "color": "#FFA15A",
            "pattern": {
             "shape": ""
            }
           },
           "name": "Loja 5",
           "offsetgroup": "Loja 5",
           "orientation": "h",
           "showlegend": true,
           "textposition": "auto",
           "texttemplate": "%{x}",
           "type": "bar",
           "x": [
            97634
           ],
           "xaxis": "x",
           "y": [
            "Loja 5"
           ],
           "yaxis": "y"
          },
          {
           "alignmentgroup": "True",
           "hovertemplate": "loja=%{y}<br>ano_mes=2022-11<br>acumulado=%{x}<extra></extra>",
           "legendgroup": "Loja 6",
           "marker": {
            "color": "#19d3f3",
            "pattern": {
             "shape": ""
            }
           },
           "name": "Loja 6",
           "offsetgroup": "Loja 6",
           "orientation": "h",
           "showlegend": true,
           "textposition": "auto",
           "texttemplate": "%{x}",
           "type": "bar",
           "x": [
            100968
           ],
           "xaxis": "x",
           "y": [
            "Loja 6"
           ],
           "yaxis": "y"
          }
         ],
         "name": "2022-11"
        },
        {
         "data": [
          {
           "alignmentgroup": "True",
           "hovertemplate": "loja=%{y}<br>ano_mes=2022-12<br>acumulado=%{x}<extra></extra>",
           "legendgroup": "Loja 1",
           "marker": {
            "color": "#636efa",
            "pattern": {
             "shape": ""
            }
           },
           "name": "Loja 1",
           "offsetgroup": "Loja 1",
           "orientation": "h",
           "showlegend": true,
           "textposition": "auto",
           "texttemplate": "%{x}",
           "type": "bar",
           "x": [
            103162
           ],
           "xaxis": "x",
           "y": [
            "Loja 1"
           ],
           "yaxis": "y"
          },
          {
           "alignmentgroup": "True",
           "hovertemplate": "loja=%{y}<br>ano_mes=2022-12<br>acumulado=%{x}<extra></extra>",
           "legendgroup": "Loja 2",
           "marker": {
            "color": "#EF553B",
            "pattern": {
             "shape": ""
            }
           },
           "name": "Loja 2",
           "offsetgroup": "Loja 2",
           "orientation": "h",
           "showlegend": true,
           "textposition": "auto",
           "texttemplate": "%{x}",
           "type": "bar",
           "x": [
            69592
           ],
           "xaxis": "x",
           "y": [
            "Loja 2"
           ],
           "yaxis": "y"
          },
          {
           "alignmentgroup": "True",
           "hovertemplate": "loja=%{y}<br>ano_mes=2022-12<br>acumulado=%{x}<extra></extra>",
           "legendgroup": "Loja 3",
           "marker": {
            "color": "#00cc96",
            "pattern": {
             "shape": ""
            }
           },
           "name": "Loja 3",
           "offsetgroup": "Loja 3",
           "orientation": "h",
           "showlegend": true,
           "textposition": "auto",
           "texttemplate": "%{x}",
           "type": "bar",
           "x": [
            88357
           ],
           "xaxis": "x",
           "y": [
            "Loja 3"
           ],
           "yaxis": "y"
          },
          {
           "alignmentgroup": "True",
           "hovertemplate": "loja=%{y}<br>ano_mes=2022-12<br>acumulado=%{x}<extra></extra>",
           "legendgroup": "Loja 4",
           "marker": {
            "color": "#ab63fa",
            "pattern": {
             "shape": ""
            }
           },
           "name": "Loja 4",
           "offsetgroup": "Loja 4",
           "orientation": "h",
           "showlegend": true,
           "textposition": "auto",
           "texttemplate": "%{x}",
           "type": "bar",
           "x": [
            112379
           ],
           "xaxis": "x",
           "y": [
            "Loja 4"
           ],
           "yaxis": "y"
          },
          {
           "alignmentgroup": "True",
           "hovertemplate": "loja=%{y}<br>ano_mes=2022-12<br>acumulado=%{x}<extra></extra>",
           "legendgroup": "Loja 5",
           "marker": {
            "color": "#FFA15A",
            "pattern": {
             "shape": ""
            }
           },
           "name": "Loja 5",
           "offsetgroup": "Loja 5",
           "orientation": "h",
           "showlegend": true,
           "textposition": "auto",
           "texttemplate": "%{x}",
           "type": "bar",
           "x": [
            102189
           ],
           "xaxis": "x",
           "y": [
            "Loja 5"
           ],
           "yaxis": "y"
          },
          {
           "alignmentgroup": "True",
           "hovertemplate": "loja=%{y}<br>ano_mes=2022-12<br>acumulado=%{x}<extra></extra>",
           "legendgroup": "Loja 6",
           "marker": {
            "color": "#19d3f3",
            "pattern": {
             "shape": ""
            }
           },
           "name": "Loja 6",
           "offsetgroup": "Loja 6",
           "orientation": "h",
           "showlegend": true,
           "textposition": "auto",
           "texttemplate": "%{x}",
           "type": "bar",
           "x": [
            109185
           ],
           "xaxis": "x",
           "y": [
            "Loja 6"
           ],
           "yaxis": "y"
          }
         ],
         "name": "2022-12"
        }
       ],
       "layout": {
        "barmode": "relative",
        "legend": {
         "title": {
          "text": "loja"
         },
         "tracegroupgap": 0
        },
        "margin": {
         "t": 60
        },
        "sliders": [
         {
          "active": 0,
          "currentvalue": {
           "prefix": "ano_mes="
          },
          "len": 0.9,
          "pad": {
           "b": 10,
           "t": 60
          },
          "steps": [
           {
            "args": [
             [
              "2020-01"
             ],
             {
              "frame": {
               "duration": 0,
               "redraw": true
              },
              "fromcurrent": true,
              "mode": "immediate",
              "transition": {
               "duration": 0,
               "easing": "linear"
              }
             }
            ],
            "label": "2020-01",
            "method": "animate"
           },
           {
            "args": [
             [
              "2020-02"
             ],
             {
              "frame": {
               "duration": 0,
               "redraw": true
              },
              "fromcurrent": true,
              "mode": "immediate",
              "transition": {
               "duration": 0,
               "easing": "linear"
              }
             }
            ],
            "label": "2020-02",
            "method": "animate"
           },
           {
            "args": [
             [
              "2020-03"
             ],
             {
              "frame": {
               "duration": 0,
               "redraw": true
              },
              "fromcurrent": true,
              "mode": "immediate",
              "transition": {
               "duration": 0,
               "easing": "linear"
              }
             }
            ],
            "label": "2020-03",
            "method": "animate"
           },
           {
            "args": [
             [
              "2020-04"
             ],
             {
              "frame": {
               "duration": 0,
               "redraw": true
              },
              "fromcurrent": true,
              "mode": "immediate",
              "transition": {
               "duration": 0,
               "easing": "linear"
              }
             }
            ],
            "label": "2020-04",
            "method": "animate"
           },
           {
            "args": [
             [
              "2020-05"
             ],
             {
              "frame": {
               "duration": 0,
               "redraw": true
              },
              "fromcurrent": true,
              "mode": "immediate",
              "transition": {
               "duration": 0,
               "easing": "linear"
              }
             }
            ],
            "label": "2020-05",
            "method": "animate"
           },
           {
            "args": [
             [
              "2020-06"
             ],
             {
              "frame": {
               "duration": 0,
               "redraw": true
              },
              "fromcurrent": true,
              "mode": "immediate",
              "transition": {
               "duration": 0,
               "easing": "linear"
              }
             }
            ],
            "label": "2020-06",
            "method": "animate"
           },
           {
            "args": [
             [
              "2020-07"
             ],
             {
              "frame": {
               "duration": 0,
               "redraw": true
              },
              "fromcurrent": true,
              "mode": "immediate",
              "transition": {
               "duration": 0,
               "easing": "linear"
              }
             }
            ],
            "label": "2020-07",
            "method": "animate"
           },
           {
            "args": [
             [
              "2020-08"
             ],
             {
              "frame": {
               "duration": 0,
               "redraw": true
              },
              "fromcurrent": true,
              "mode": "immediate",
              "transition": {
               "duration": 0,
               "easing": "linear"
              }
             }
            ],
            "label": "2020-08",
            "method": "animate"
           },
           {
            "args": [
             [
              "2020-09"
             ],
             {
              "frame": {
               "duration": 0,
               "redraw": true
              },
              "fromcurrent": true,
              "mode": "immediate",
              "transition": {
               "duration": 0,
               "easing": "linear"
              }
             }
            ],
            "label": "2020-09",
            "method": "animate"
           },
           {
            "args": [
             [
              "2020-10"
             ],
             {
              "frame": {
               "duration": 0,
               "redraw": true
              },
              "fromcurrent": true,
              "mode": "immediate",
              "transition": {
               "duration": 0,
               "easing": "linear"
              }
             }
            ],
            "label": "2020-10",
            "method": "animate"
           },
           {
            "args": [
             [
              "2020-11"
             ],
             {
              "frame": {
               "duration": 0,
               "redraw": true
              },
              "fromcurrent": true,
              "mode": "immediate",
              "transition": {
               "duration": 0,
               "easing": "linear"
              }
             }
            ],
            "label": "2020-11",
            "method": "animate"
           },
           {
            "args": [
             [
              "2020-12"
             ],
             {
              "frame": {
               "duration": 0,
               "redraw": true
              },
              "fromcurrent": true,
              "mode": "immediate",
              "transition": {
               "duration": 0,
               "easing": "linear"
              }
             }
            ],
            "label": "2020-12",
            "method": "animate"
           },
           {
            "args": [
             [
              "2021-01"
             ],
             {
              "frame": {
               "duration": 0,
               "redraw": true
              },
              "fromcurrent": true,
              "mode": "immediate",
              "transition": {
               "duration": 0,
               "easing": "linear"
              }
             }
            ],
            "label": "2021-01",
            "method": "animate"
           },
           {
            "args": [
             [
              "2021-02"
             ],
             {
              "frame": {
               "duration": 0,
               "redraw": true
              },
              "fromcurrent": true,
              "mode": "immediate",
              "transition": {
               "duration": 0,
               "easing": "linear"
              }
             }
            ],
            "label": "2021-02",
            "method": "animate"
           },
           {
            "args": [
             [
              "2021-03"
             ],
             {
              "frame": {
               "duration": 0,
               "redraw": true
              },
              "fromcurrent": true,
              "mode": "immediate",
              "transition": {
               "duration": 0,
               "easing": "linear"
              }
             }
            ],
            "label": "2021-03",
            "method": "animate"
           },
           {
            "args": [
             [
              "2021-04"
             ],
             {
              "frame": {
               "duration": 0,
               "redraw": true
              },
              "fromcurrent": true,
              "mode": "immediate",
              "transition": {
               "duration": 0,
               "easing": "linear"
              }
             }
            ],
            "label": "2021-04",
            "method": "animate"
           },
           {
            "args": [
             [
              "2021-05"
             ],
             {
              "frame": {
               "duration": 0,
               "redraw": true
              },
              "fromcurrent": true,
              "mode": "immediate",
              "transition": {
               "duration": 0,
               "easing": "linear"
              }
             }
            ],
            "label": "2021-05",
            "method": "animate"
           },
           {
            "args": [
             [
              "2021-06"
             ],
             {
              "frame": {
               "duration": 0,
               "redraw": true
              },
              "fromcurrent": true,
              "mode": "immediate",
              "transition": {
               "duration": 0,
               "easing": "linear"
              }
             }
            ],
            "label": "2021-06",
            "method": "animate"
           },
           {
            "args": [
             [
              "2021-07"
             ],
             {
              "frame": {
               "duration": 0,
               "redraw": true
              },
              "fromcurrent": true,
              "mode": "immediate",
              "transition": {
               "duration": 0,
               "easing": "linear"
              }
             }
            ],
            "label": "2021-07",
            "method": "animate"
           },
           {
            "args": [
             [
              "2021-08"
             ],
             {
              "frame": {
               "duration": 0,
               "redraw": true
              },
              "fromcurrent": true,
              "mode": "immediate",
              "transition": {
               "duration": 0,
               "easing": "linear"
              }
             }
            ],
            "label": "2021-08",
            "method": "animate"
           },
           {
            "args": [
             [
              "2021-09"
             ],
             {
              "frame": {
               "duration": 0,
               "redraw": true
              },
              "fromcurrent": true,
              "mode": "immediate",
              "transition": {
               "duration": 0,
               "easing": "linear"
              }
             }
            ],
            "label": "2021-09",
            "method": "animate"
           },
           {
            "args": [
             [
              "2021-10"
             ],
             {
              "frame": {
               "duration": 0,
               "redraw": true
              },
              "fromcurrent": true,
              "mode": "immediate",
              "transition": {
               "duration": 0,
               "easing": "linear"
              }
             }
            ],
            "label": "2021-10",
            "method": "animate"
           },
           {
            "args": [
             [
              "2021-11"
             ],
             {
              "frame": {
               "duration": 0,
               "redraw": true
              },
              "fromcurrent": true,
              "mode": "immediate",
              "transition": {
               "duration": 0,
               "easing": "linear"
              }
             }
            ],
            "label": "2021-11",
            "method": "animate"
           },
           {
            "args": [
             [
              "2021-12"
             ],
             {
              "frame": {
               "duration": 0,
               "redraw": true
              },
              "fromcurrent": true,
              "mode": "immediate",
              "transition": {
               "duration": 0,
               "easing": "linear"
              }
             }
            ],
            "label": "2021-12",
            "method": "animate"
           },
           {
            "args": [
             [
              "2022-01"
             ],
             {
              "frame": {
               "duration": 0,
               "redraw": true
              },
              "fromcurrent": true,
              "mode": "immediate",
              "transition": {
               "duration": 0,
               "easing": "linear"
              }
             }
            ],
            "label": "2022-01",
            "method": "animate"
           },
           {
            "args": [
             [
              "2022-02"
             ],
             {
              "frame": {
               "duration": 0,
               "redraw": true
              },
              "fromcurrent": true,
              "mode": "immediate",
              "transition": {
               "duration": 0,
               "easing": "linear"
              }
             }
            ],
            "label": "2022-02",
            "method": "animate"
           },
           {
            "args": [
             [
              "2022-03"
             ],
             {
              "frame": {
               "duration": 0,
               "redraw": true
              },
              "fromcurrent": true,
              "mode": "immediate",
              "transition": {
               "duration": 0,
               "easing": "linear"
              }
             }
            ],
            "label": "2022-03",
            "method": "animate"
           },
           {
            "args": [
             [
              "2022-04"
             ],
             {
              "frame": {
               "duration": 0,
               "redraw": true
              },
              "fromcurrent": true,
              "mode": "immediate",
              "transition": {
               "duration": 0,
               "easing": "linear"
              }
             }
            ],
            "label": "2022-04",
            "method": "animate"
           },
           {
            "args": [
             [
              "2022-05"
             ],
             {
              "frame": {
               "duration": 0,
               "redraw": true
              },
              "fromcurrent": true,
              "mode": "immediate",
              "transition": {
               "duration": 0,
               "easing": "linear"
              }
             }
            ],
            "label": "2022-05",
            "method": "animate"
           },
           {
            "args": [
             [
              "2022-06"
             ],
             {
              "frame": {
               "duration": 0,
               "redraw": true
              },
              "fromcurrent": true,
              "mode": "immediate",
              "transition": {
               "duration": 0,
               "easing": "linear"
              }
             }
            ],
            "label": "2022-06",
            "method": "animate"
           },
           {
            "args": [
             [
              "2022-07"
             ],
             {
              "frame": {
               "duration": 0,
               "redraw": true
              },
              "fromcurrent": true,
              "mode": "immediate",
              "transition": {
               "duration": 0,
               "easing": "linear"
              }
             }
            ],
            "label": "2022-07",
            "method": "animate"
           },
           {
            "args": [
             [
              "2022-08"
             ],
             {
              "frame": {
               "duration": 0,
               "redraw": true
              },
              "fromcurrent": true,
              "mode": "immediate",
              "transition": {
               "duration": 0,
               "easing": "linear"
              }
             }
            ],
            "label": "2022-08",
            "method": "animate"
           },
           {
            "args": [
             [
              "2022-09"
             ],
             {
              "frame": {
               "duration": 0,
               "redraw": true
              },
              "fromcurrent": true,
              "mode": "immediate",
              "transition": {
               "duration": 0,
               "easing": "linear"
              }
             }
            ],
            "label": "2022-09",
            "method": "animate"
           },
           {
            "args": [
             [
              "2022-10"
             ],
             {
              "frame": {
               "duration": 0,
               "redraw": true
              },
              "fromcurrent": true,
              "mode": "immediate",
              "transition": {
               "duration": 0,
               "easing": "linear"
              }
             }
            ],
            "label": "2022-10",
            "method": "animate"
           },
           {
            "args": [
             [
              "2022-11"
             ],
             {
              "frame": {
               "duration": 0,
               "redraw": true
              },
              "fromcurrent": true,
              "mode": "immediate",
              "transition": {
               "duration": 0,
               "easing": "linear"
              }
             }
            ],
            "label": "2022-11",
            "method": "animate"
           },
           {
            "args": [
             [
              "2022-12"
             ],
             {
              "frame": {
               "duration": 0,
               "redraw": true
              },
              "fromcurrent": true,
              "mode": "immediate",
              "transition": {
               "duration": 0,
               "easing": "linear"
              }
             }
            ],
            "label": "2022-12",
            "method": "animate"
           }
          ],
          "x": 0.1,
          "xanchor": "left",
          "y": 0,
          "yanchor": "top"
         }
        ],
        "template": {
         "data": {
          "bar": [
           {
            "error_x": {
             "color": "#2a3f5f"
            },
            "error_y": {
             "color": "#2a3f5f"
            },
            "marker": {
             "line": {
              "color": "#E5ECF6",
              "width": 0.5
             },
             "pattern": {
              "fillmode": "overlay",
              "size": 10,
              "solidity": 0.2
             }
            },
            "type": "bar"
           }
          ],
          "barpolar": [
           {
            "marker": {
             "line": {
              "color": "#E5ECF6",
              "width": 0.5
             },
             "pattern": {
              "fillmode": "overlay",
              "size": 10,
              "solidity": 0.2
             }
            },
            "type": "barpolar"
           }
          ],
          "carpet": [
           {
            "aaxis": {
             "endlinecolor": "#2a3f5f",
             "gridcolor": "white",
             "linecolor": "white",
             "minorgridcolor": "white",
             "startlinecolor": "#2a3f5f"
            },
            "baxis": {
             "endlinecolor": "#2a3f5f",
             "gridcolor": "white",
             "linecolor": "white",
             "minorgridcolor": "white",
             "startlinecolor": "#2a3f5f"
            },
            "type": "carpet"
           }
          ],
          "choropleth": [
           {
            "colorbar": {
             "outlinewidth": 0,
             "ticks": ""
            },
            "type": "choropleth"
           }
          ],
          "contour": [
           {
            "colorbar": {
             "outlinewidth": 0,
             "ticks": ""
            },
            "colorscale": [
             [
              0,
              "#0d0887"
             ],
             [
              0.1111111111111111,
              "#46039f"
             ],
             [
              0.2222222222222222,
              "#7201a8"
             ],
             [
              0.3333333333333333,
              "#9c179e"
             ],
             [
              0.4444444444444444,
              "#bd3786"
             ],
             [
              0.5555555555555556,
              "#d8576b"
             ],
             [
              0.6666666666666666,
              "#ed7953"
             ],
             [
              0.7777777777777778,
              "#fb9f3a"
             ],
             [
              0.8888888888888888,
              "#fdca26"
             ],
             [
              1,
              "#f0f921"
             ]
            ],
            "type": "contour"
           }
          ],
          "contourcarpet": [
           {
            "colorbar": {
             "outlinewidth": 0,
             "ticks": ""
            },
            "type": "contourcarpet"
           }
          ],
          "heatmap": [
           {
            "colorbar": {
             "outlinewidth": 0,
             "ticks": ""
            },
            "colorscale": [
             [
              0,
              "#0d0887"
             ],
             [
              0.1111111111111111,
              "#46039f"
             ],
             [
              0.2222222222222222,
              "#7201a8"
             ],
             [
              0.3333333333333333,
              "#9c179e"
             ],
             [
              0.4444444444444444,
              "#bd3786"
             ],
             [
              0.5555555555555556,
              "#d8576b"
             ],
             [
              0.6666666666666666,
              "#ed7953"
             ],
             [
              0.7777777777777778,
              "#fb9f3a"
             ],
             [
              0.8888888888888888,
              "#fdca26"
             ],
             [
              1,
              "#f0f921"
             ]
            ],
            "type": "heatmap"
           }
          ],
          "heatmapgl": [
           {
            "colorbar": {
             "outlinewidth": 0,
             "ticks": ""
            },
            "colorscale": [
             [
              0,
              "#0d0887"
             ],
             [
              0.1111111111111111,
              "#46039f"
             ],
             [
              0.2222222222222222,
              "#7201a8"
             ],
             [
              0.3333333333333333,
              "#9c179e"
             ],
             [
              0.4444444444444444,
              "#bd3786"
             ],
             [
              0.5555555555555556,
              "#d8576b"
             ],
             [
              0.6666666666666666,
              "#ed7953"
             ],
             [
              0.7777777777777778,
              "#fb9f3a"
             ],
             [
              0.8888888888888888,
              "#fdca26"
             ],
             [
              1,
              "#f0f921"
             ]
            ],
            "type": "heatmapgl"
           }
          ],
          "histogram": [
           {
            "marker": {
             "pattern": {
              "fillmode": "overlay",
              "size": 10,
              "solidity": 0.2
             }
            },
            "type": "histogram"
           }
          ],
          "histogram2d": [
           {
            "colorbar": {
             "outlinewidth": 0,
             "ticks": ""
            },
            "colorscale": [
             [
              0,
              "#0d0887"
             ],
             [
              0.1111111111111111,
              "#46039f"
             ],
             [
              0.2222222222222222,
              "#7201a8"
             ],
             [
              0.3333333333333333,
              "#9c179e"
             ],
             [
              0.4444444444444444,
              "#bd3786"
             ],
             [
              0.5555555555555556,
              "#d8576b"
             ],
             [
              0.6666666666666666,
              "#ed7953"
             ],
             [
              0.7777777777777778,
              "#fb9f3a"
             ],
             [
              0.8888888888888888,
              "#fdca26"
             ],
             [
              1,
              "#f0f921"
             ]
            ],
            "type": "histogram2d"
           }
          ],
          "histogram2dcontour": [
           {
            "colorbar": {
             "outlinewidth": 0,
             "ticks": ""
            },
            "colorscale": [
             [
              0,
              "#0d0887"
             ],
             [
              0.1111111111111111,
              "#46039f"
             ],
             [
              0.2222222222222222,
              "#7201a8"
             ],
             [
              0.3333333333333333,
              "#9c179e"
             ],
             [
              0.4444444444444444,
              "#bd3786"
             ],
             [
              0.5555555555555556,
              "#d8576b"
             ],
             [
              0.6666666666666666,
              "#ed7953"
             ],
             [
              0.7777777777777778,
              "#fb9f3a"
             ],
             [
              0.8888888888888888,
              "#fdca26"
             ],
             [
              1,
              "#f0f921"
             ]
            ],
            "type": "histogram2dcontour"
           }
          ],
          "mesh3d": [
           {
            "colorbar": {
             "outlinewidth": 0,
             "ticks": ""
            },
            "type": "mesh3d"
           }
          ],
          "parcoords": [
           {
            "line": {
             "colorbar": {
              "outlinewidth": 0,
              "ticks": ""
             }
            },
            "type": "parcoords"
           }
          ],
          "pie": [
           {
            "automargin": true,
            "type": "pie"
           }
          ],
          "scatter": [
           {
            "fillpattern": {
             "fillmode": "overlay",
             "size": 10,
             "solidity": 0.2
            },
            "type": "scatter"
           }
          ],
          "scatter3d": [
           {
            "line": {
             "colorbar": {
              "outlinewidth": 0,
              "ticks": ""
             }
            },
            "marker": {
             "colorbar": {
              "outlinewidth": 0,
              "ticks": ""
             }
            },
            "type": "scatter3d"
           }
          ],
          "scattercarpet": [
           {
            "marker": {
             "colorbar": {
              "outlinewidth": 0,
              "ticks": ""
             }
            },
            "type": "scattercarpet"
           }
          ],
          "scattergeo": [
           {
            "marker": {
             "colorbar": {
              "outlinewidth": 0,
              "ticks": ""
             }
            },
            "type": "scattergeo"
           }
          ],
          "scattergl": [
           {
            "marker": {
             "colorbar": {
              "outlinewidth": 0,
              "ticks": ""
             }
            },
            "type": "scattergl"
           }
          ],
          "scattermapbox": [
           {
            "marker": {
             "colorbar": {
              "outlinewidth": 0,
              "ticks": ""
             }
            },
            "type": "scattermapbox"
           }
          ],
          "scatterpolar": [
           {
            "marker": {
             "colorbar": {
              "outlinewidth": 0,
              "ticks": ""
             }
            },
            "type": "scatterpolar"
           }
          ],
          "scatterpolargl": [
           {
            "marker": {
             "colorbar": {
              "outlinewidth": 0,
              "ticks": ""
             }
            },
            "type": "scatterpolargl"
           }
          ],
          "scatterternary": [
           {
            "marker": {
             "colorbar": {
              "outlinewidth": 0,
              "ticks": ""
             }
            },
            "type": "scatterternary"
           }
          ],
          "surface": [
           {
            "colorbar": {
             "outlinewidth": 0,
             "ticks": ""
            },
            "colorscale": [
             [
              0,
              "#0d0887"
             ],
             [
              0.1111111111111111,
              "#46039f"
             ],
             [
              0.2222222222222222,
              "#7201a8"
             ],
             [
              0.3333333333333333,
              "#9c179e"
             ],
             [
              0.4444444444444444,
              "#bd3786"
             ],
             [
              0.5555555555555556,
              "#d8576b"
             ],
             [
              0.6666666666666666,
              "#ed7953"
             ],
             [
              0.7777777777777778,
              "#fb9f3a"
             ],
             [
              0.8888888888888888,
              "#fdca26"
             ],
             [
              1,
              "#f0f921"
             ]
            ],
            "type": "surface"
           }
          ],
          "table": [
           {
            "cells": {
             "fill": {
              "color": "#EBF0F8"
             },
             "line": {
              "color": "white"
             }
            },
            "header": {
             "fill": {
              "color": "#C8D4E3"
             },
             "line": {
              "color": "white"
             }
            },
            "type": "table"
           }
          ]
         },
         "layout": {
          "annotationdefaults": {
           "arrowcolor": "#2a3f5f",
           "arrowhead": 0,
           "arrowwidth": 1
          },
          "autotypenumbers": "strict",
          "coloraxis": {
           "colorbar": {
            "outlinewidth": 0,
            "ticks": ""
           }
          },
          "colorscale": {
           "diverging": [
            [
             0,
             "#8e0152"
            ],
            [
             0.1,
             "#c51b7d"
            ],
            [
             0.2,
             "#de77ae"
            ],
            [
             0.3,
             "#f1b6da"
            ],
            [
             0.4,
             "#fde0ef"
            ],
            [
             0.5,
             "#f7f7f7"
            ],
            [
             0.6,
             "#e6f5d0"
            ],
            [
             0.7,
             "#b8e186"
            ],
            [
             0.8,
             "#7fbc41"
            ],
            [
             0.9,
             "#4d9221"
            ],
            [
             1,
             "#276419"
            ]
           ],
           "sequential": [
            [
             0,
             "#0d0887"
            ],
            [
             0.1111111111111111,
             "#46039f"
            ],
            [
             0.2222222222222222,
             "#7201a8"
            ],
            [
             0.3333333333333333,
             "#9c179e"
            ],
            [
             0.4444444444444444,
             "#bd3786"
            ],
            [
             0.5555555555555556,
             "#d8576b"
            ],
            [
             0.6666666666666666,
             "#ed7953"
            ],
            [
             0.7777777777777778,
             "#fb9f3a"
            ],
            [
             0.8888888888888888,
             "#fdca26"
            ],
            [
             1,
             "#f0f921"
            ]
           ],
           "sequentialminus": [
            [
             0,
             "#0d0887"
            ],
            [
             0.1111111111111111,
             "#46039f"
            ],
            [
             0.2222222222222222,
             "#7201a8"
            ],
            [
             0.3333333333333333,
             "#9c179e"
            ],
            [
             0.4444444444444444,
             "#bd3786"
            ],
            [
             0.5555555555555556,
             "#d8576b"
            ],
            [
             0.6666666666666666,
             "#ed7953"
            ],
            [
             0.7777777777777778,
             "#fb9f3a"
            ],
            [
             0.8888888888888888,
             "#fdca26"
            ],
            [
             1,
             "#f0f921"
            ]
           ]
          },
          "colorway": [
           "#636efa",
           "#EF553B",
           "#00cc96",
           "#ab63fa",
           "#FFA15A",
           "#19d3f3",
           "#FF6692",
           "#B6E880",
           "#FF97FF",
           "#FECB52"
          ],
          "font": {
           "color": "#2a3f5f"
          },
          "geo": {
           "bgcolor": "white",
           "lakecolor": "white",
           "landcolor": "#E5ECF6",
           "showlakes": true,
           "showland": true,
           "subunitcolor": "white"
          },
          "hoverlabel": {
           "align": "left"
          },
          "hovermode": "closest",
          "mapbox": {
           "style": "light"
          },
          "paper_bgcolor": "white",
          "plot_bgcolor": "#E5ECF6",
          "polar": {
           "angularaxis": {
            "gridcolor": "white",
            "linecolor": "white",
            "ticks": ""
           },
           "bgcolor": "#E5ECF6",
           "radialaxis": {
            "gridcolor": "white",
            "linecolor": "white",
            "ticks": ""
           }
          },
          "scene": {
           "xaxis": {
            "backgroundcolor": "#E5ECF6",
            "gridcolor": "white",
            "gridwidth": 2,
            "linecolor": "white",
            "showbackground": true,
            "ticks": "",
            "zerolinecolor": "white"
           },
           "yaxis": {
            "backgroundcolor": "#E5ECF6",
            "gridcolor": "white",
            "gridwidth": 2,
            "linecolor": "white",
            "showbackground": true,
            "ticks": "",
            "zerolinecolor": "white"
           },
           "zaxis": {
            "backgroundcolor": "#E5ECF6",
            "gridcolor": "white",
            "gridwidth": 2,
            "linecolor": "white",
            "showbackground": true,
            "ticks": "",
            "zerolinecolor": "white"
           }
          },
          "shapedefaults": {
           "line": {
            "color": "#2a3f5f"
           }
          },
          "ternary": {
           "aaxis": {
            "gridcolor": "white",
            "linecolor": "white",
            "ticks": ""
           },
           "baxis": {
            "gridcolor": "white",
            "linecolor": "white",
            "ticks": ""
           },
           "bgcolor": "#E5ECF6",
           "caxis": {
            "gridcolor": "white",
            "linecolor": "white",
            "ticks": ""
           }
          },
          "title": {
           "x": 0.05
          },
          "xaxis": {
           "automargin": true,
           "gridcolor": "white",
           "linecolor": "white",
           "ticks": "",
           "title": {
            "standoff": 15
           },
           "zerolinecolor": "white",
           "zerolinewidth": 2
          },
          "yaxis": {
           "automargin": true,
           "gridcolor": "white",
           "linecolor": "white",
           "ticks": "",
           "title": {
            "standoff": 15
           },
           "zerolinecolor": "white",
           "zerolinewidth": 2
          }
         }
        },
        "updatemenus": [
         {
          "buttons": [
           {
            "args": [
             null,
             {
              "frame": {
               "duration": 500,
               "redraw": true
              },
              "fromcurrent": true,
              "mode": "immediate",
              "transition": {
               "duration": 500,
               "easing": "linear"
              }
             }
            ],
            "label": "&#9654;",
            "method": "animate"
           },
           {
            "args": [
             [
              null
             ],
             {
              "frame": {
               "duration": 0,
               "redraw": true
              },
              "fromcurrent": true,
              "mode": "immediate",
              "transition": {
               "duration": 0,
               "easing": "linear"
              }
             }
            ],
            "label": "&#9724;",
            "method": "animate"
           }
          ],
          "direction": "left",
          "pad": {
           "r": 10,
           "t": 70
          },
          "showactive": false,
          "type": "buttons",
          "x": 0.1,
          "xanchor": "right",
          "y": 0,
          "yanchor": "top"
         }
        ],
        "xaxis": {
         "anchor": "y",
         "domain": [
          0,
          1
         ],
         "range": [
          0,
          123000
         ],
         "title": {
          "text": "acumulado"
         }
        },
        "yaxis": {
         "anchor": "x",
         "categoryarray": [
          "Loja 6",
          "Loja 5",
          "Loja 4",
          "Loja 3",
          "Loja 2",
          "Loja 1"
         ],
         "categoryorder": "array",
         "domain": [
          0,
          1
         ],
         "title": {
          "text": "loja"
         }
        }
       }
      }
     },
     "metadata": {},
     "output_type": "display_data"
    }
   ],
   "source": [
    "agrupado = dados.groupby(['loja', 'ano_mes']).preco.sum().to_frame()\n",
    "agrupado.reset_index(inplace=True)\n",
    "agrupado['acumulado'] = agrupado.groupby('loja').preco.cumsum()\n",
    "\n",
    "fig = px.bar(agrupado,\n",
    "x='acumulado',\n",
    "y=\"loja\",\n",
    "color='loja',\n",
    "text_auto=True,\n",
    "range_x=[0,123000],\n",
    "animation_frame='ano_mes')\n",
    "fig.show()\n",
    "# fig.write_html(\"folder_aula/grafico_animado.html\")"
   ]
  }
 ],
 "metadata": {
  "kernelspec": {
   "display_name": "Python 3",
   "language": "python",
   "name": "python3"
  },
  "language_info": {
   "codemirror_mode": {
    "name": "ipython",
    "version": 3
   },
   "file_extension": ".py",
   "mimetype": "text/x-python",
   "name": "python",
   "nbconvert_exporter": "python",
   "pygments_lexer": "ipython3",
   "version": "3.11.3"
  },
  "orig_nbformat": 4
 },
 "nbformat": 4,
 "nbformat_minor": 2
}
